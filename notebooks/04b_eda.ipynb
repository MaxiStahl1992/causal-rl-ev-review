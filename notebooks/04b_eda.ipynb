{
 "cells": [
  {
   "cell_type": "markdown",
   "id": "ca5fbc2e",
   "metadata": {},
   "source": [
    "# Tier 1: Macro View - Quantifying the Landscape\n",
    "This notebook conducts a high-level, quantitative analysis of the research domain. The goal is to identify the most prominent entities (papers, authors, venues), their key attributes, and overall trends. This establishes the \"who, what, where, and when\" of the literature."
   ]
  },
  {
   "cell_type": "code",
   "execution_count": 1,
   "id": "87410626",
   "metadata": {},
   "outputs": [
    {
     "name": "stdout",
     "output_type": "stream",
     "text": [
      "Setup complete. Connected to Neo4j.\n"
     ]
    }
   ],
   "source": [
    "import pandas as pd\n",
    "from neo4j import GraphDatabase\n",
    "import os\n",
    "from dotenv import load_dotenv\n",
    "import matplotlib.pyplot as plt\n",
    "\n",
    "# --- Connect to Neo4j ---\n",
    "load_dotenv()\n",
    "URI = os.getenv(\"NEO4J_URI\")\n",
    "AUTH = (os.getenv(\"NEO4J_USERNAME\"), os.getenv(\"NEO4J_PASSWORD\"))\n",
    "driver = GraphDatabase.driver(URI, auth=AUTH)\n",
    "\n",
    "# --- Helper Function to run queries and return a DataFrame ---\n",
    "def query_to_dataframe(driver, query, **params):\n",
    "    \"\"\"\n",
    "    This function executes a Cypher query against the database\n",
    "    and returns the results as a pandas DataFrame.\n",
    "    \"\"\"\n",
    "    with driver.session() as session:\n",
    "        result = session.run(query, **params)\n",
    "        return pd.DataFrame([r.data() for r in result])\n",
    "\n",
    "print(\"Setup complete. Connected to Neo4j.\")"
   ]
  },
  {
   "cell_type": "markdown",
   "id": "456a3a13",
   "metadata": {},
   "source": [
    "## 1. Foundational Papers\n",
    "This section identifies the most influential papers in the corpus, measured by both external and internal citation counts."
   ]
  },
  {
   "cell_type": "markdown",
   "id": "1cc558fc",
   "metadata": {},
   "source": [
    "### 1.1 Foundational Papers by Overall Citation Count\n",
    "This analysis identifies papers with the highest external citation counts from the source metadata. These papers are considered highly influential in the broader academic landscape."
   ]
  },
  {
   "cell_type": "code",
   "execution_count": 2,
   "id": "42e3189d",
   "metadata": {},
   "outputs": [
    {
     "data": {
      "application/vnd.microsoft.datawrangler.viewer.v0+json": {
       "columns": [
        {
         "name": "index",
         "rawType": "int64",
         "type": "integer"
        },
        {
         "name": "title",
         "rawType": "object",
         "type": "string"
        },
        {
         "name": "year",
         "rawType": "float64",
         "type": "float"
        },
        {
         "name": "citation_count",
         "rawType": "int64",
         "type": "integer"
        },
        {
         "name": "influential_citation_count",
         "rawType": "int64",
         "type": "integer"
        }
       ],
       "ref": "7a50da9d-e2c3-4d16-a6cb-6a54ab058075",
       "rows": [
        [
         "315",
         "Decision Transformer: Reinforcement Learning via Sequence Modeling",
         "2021.0",
         "1747",
         "301"
        ],
        [
         "1450",
         "Reinforcement learning for demand response: A review of algorithms and modeling techniques",
         "2019.0",
         "604",
         "15"
        ],
        [
         "1317",
         "Perceptual Learning Directs Auditory Cortical Map Reorganization through Top-Down Influences",
         "2006.0",
         "568",
         "36"
        ],
        [
         "244",
         "Reinforcement Knowledge Graph Reasoning for Explainable Recommendation",
         "2019.0",
         "484",
         "47"
        ],
        [
         "359",
         "Social Influence as Intrinsic Motivation for Multi-Agent Deep Reinforcement Learning",
         "2018.0",
         "462",
         "50"
        ],
        [
         "1531",
         "Working-memory capacity protects model-based learning from stress",
         "2013.0",
         "432",
         "34"
        ],
        [
         "628",
         "Model-Free Real-Time EV Charging Scheduling Based on Deep Reinforcement Learning",
         "2019.0",
         "393",
         "23"
        ],
        [
         "1695",
         "A Dynamic pricing demand response algorithm for smart grid: Reinforcement learning approach",
         "2018.0",
         "360",
         "20"
        ],
        [
         "1601",
         "Deep Reinforcement Learning for Power System Applications: An Overview",
         "2020.0",
         "348",
         "12"
        ],
        [
         "1846",
         "Incentive-based demand response for smart grid with reinforcement learning and deep neural network",
         "2019.0",
         "320",
         "7"
        ],
        [
         "1637",
         "A Multi-Agent Reinforcement Learning-Based Data-Driven Method for Home Energy Management",
         "2020.0",
         "286",
         "15"
        ],
        [
         "1369",
         "Demand Response for Home Energy Management Using Reinforcement Learning and Artificial Neural Network",
         "2019.0",
         "286",
         "12"
        ],
        [
         "1734",
         "VCONF: a reinforcement learning approach to virtual machines auto-configuration",
         "2009.0",
         "284",
         "13"
        ],
        [
         "829",
         "Constrained EV Charging Scheduling Based on Safe Deep Reinforcement Learning",
         "2020.0",
         "281",
         "13"
        ],
        [
         "344",
         "Effects of Hemi‐Portocaval Shunts For Inflow Modulation on the Outcome of Small‐for‐Size Grafts in Living Donor Liver Transplantation",
         "2005.0",
         "259",
         "12"
        ]
       ],
       "shape": {
        "columns": 4,
        "rows": 15
       }
      },
      "text/html": [
       "<div>\n",
       "<style scoped>\n",
       "    .dataframe tbody tr th:only-of-type {\n",
       "        vertical-align: middle;\n",
       "    }\n",
       "\n",
       "    .dataframe tbody tr th {\n",
       "        vertical-align: top;\n",
       "    }\n",
       "\n",
       "    .dataframe thead th {\n",
       "        text-align: right;\n",
       "    }\n",
       "</style>\n",
       "<table border=\"1\" class=\"dataframe\">\n",
       "  <thead>\n",
       "    <tr style=\"text-align: right;\">\n",
       "      <th></th>\n",
       "      <th>title</th>\n",
       "      <th>year</th>\n",
       "      <th>citation_count</th>\n",
       "      <th>influential_citation_count</th>\n",
       "    </tr>\n",
       "  </thead>\n",
       "  <tbody>\n",
       "    <tr>\n",
       "      <th>315</th>\n",
       "      <td>Decision Transformer: Reinforcement Learning v...</td>\n",
       "      <td>2021.0</td>\n",
       "      <td>1747</td>\n",
       "      <td>301</td>\n",
       "    </tr>\n",
       "    <tr>\n",
       "      <th>1450</th>\n",
       "      <td>Reinforcement learning for demand response: A ...</td>\n",
       "      <td>2019.0</td>\n",
       "      <td>604</td>\n",
       "      <td>15</td>\n",
       "    </tr>\n",
       "    <tr>\n",
       "      <th>1317</th>\n",
       "      <td>Perceptual Learning Directs Auditory Cortical ...</td>\n",
       "      <td>2006.0</td>\n",
       "      <td>568</td>\n",
       "      <td>36</td>\n",
       "    </tr>\n",
       "    <tr>\n",
       "      <th>244</th>\n",
       "      <td>Reinforcement Knowledge Graph Reasoning for Ex...</td>\n",
       "      <td>2019.0</td>\n",
       "      <td>484</td>\n",
       "      <td>47</td>\n",
       "    </tr>\n",
       "    <tr>\n",
       "      <th>359</th>\n",
       "      <td>Social Influence as Intrinsic Motivation for M...</td>\n",
       "      <td>2018.0</td>\n",
       "      <td>462</td>\n",
       "      <td>50</td>\n",
       "    </tr>\n",
       "    <tr>\n",
       "      <th>1531</th>\n",
       "      <td>Working-memory capacity protects model-based l...</td>\n",
       "      <td>2013.0</td>\n",
       "      <td>432</td>\n",
       "      <td>34</td>\n",
       "    </tr>\n",
       "    <tr>\n",
       "      <th>628</th>\n",
       "      <td>Model-Free Real-Time EV Charging Scheduling Ba...</td>\n",
       "      <td>2019.0</td>\n",
       "      <td>393</td>\n",
       "      <td>23</td>\n",
       "    </tr>\n",
       "    <tr>\n",
       "      <th>1695</th>\n",
       "      <td>A Dynamic pricing demand response algorithm fo...</td>\n",
       "      <td>2018.0</td>\n",
       "      <td>360</td>\n",
       "      <td>20</td>\n",
       "    </tr>\n",
       "    <tr>\n",
       "      <th>1601</th>\n",
       "      <td>Deep Reinforcement Learning for Power System A...</td>\n",
       "      <td>2020.0</td>\n",
       "      <td>348</td>\n",
       "      <td>12</td>\n",
       "    </tr>\n",
       "    <tr>\n",
       "      <th>1846</th>\n",
       "      <td>Incentive-based demand response for smart grid...</td>\n",
       "      <td>2019.0</td>\n",
       "      <td>320</td>\n",
       "      <td>7</td>\n",
       "    </tr>\n",
       "    <tr>\n",
       "      <th>1637</th>\n",
       "      <td>A Multi-Agent Reinforcement Learning-Based Dat...</td>\n",
       "      <td>2020.0</td>\n",
       "      <td>286</td>\n",
       "      <td>15</td>\n",
       "    </tr>\n",
       "    <tr>\n",
       "      <th>1369</th>\n",
       "      <td>Demand Response for Home Energy Management Usi...</td>\n",
       "      <td>2019.0</td>\n",
       "      <td>286</td>\n",
       "      <td>12</td>\n",
       "    </tr>\n",
       "    <tr>\n",
       "      <th>1734</th>\n",
       "      <td>VCONF: a reinforcement learning approach to vi...</td>\n",
       "      <td>2009.0</td>\n",
       "      <td>284</td>\n",
       "      <td>13</td>\n",
       "    </tr>\n",
       "    <tr>\n",
       "      <th>829</th>\n",
       "      <td>Constrained EV Charging Scheduling Based on Sa...</td>\n",
       "      <td>2020.0</td>\n",
       "      <td>281</td>\n",
       "      <td>13</td>\n",
       "    </tr>\n",
       "    <tr>\n",
       "      <th>344</th>\n",
       "      <td>Effects of Hemi‐Portocaval Shunts For Inflow M...</td>\n",
       "      <td>2005.0</td>\n",
       "      <td>259</td>\n",
       "      <td>12</td>\n",
       "    </tr>\n",
       "  </tbody>\n",
       "</table>\n",
       "</div>"
      ],
      "text/plain": [
       "                                                  title    year  \\\n",
       "315   Decision Transformer: Reinforcement Learning v...  2021.0   \n",
       "1450  Reinforcement learning for demand response: A ...  2019.0   \n",
       "1317  Perceptual Learning Directs Auditory Cortical ...  2006.0   \n",
       "244   Reinforcement Knowledge Graph Reasoning for Ex...  2019.0   \n",
       "359   Social Influence as Intrinsic Motivation for M...  2018.0   \n",
       "1531  Working-memory capacity protects model-based l...  2013.0   \n",
       "628   Model-Free Real-Time EV Charging Scheduling Ba...  2019.0   \n",
       "1695  A Dynamic pricing demand response algorithm fo...  2018.0   \n",
       "1601  Deep Reinforcement Learning for Power System A...  2020.0   \n",
       "1846  Incentive-based demand response for smart grid...  2019.0   \n",
       "1637  A Multi-Agent Reinforcement Learning-Based Dat...  2020.0   \n",
       "1369  Demand Response for Home Energy Management Usi...  2019.0   \n",
       "1734  VCONF: a reinforcement learning approach to vi...  2009.0   \n",
       "829   Constrained EV Charging Scheduling Based on Sa...  2020.0   \n",
       "344   Effects of Hemi‐Portocaval Shunts For Inflow M...  2005.0   \n",
       "\n",
       "      citation_count  influential_citation_count  \n",
       "315             1747                         301  \n",
       "1450             604                          15  \n",
       "1317             568                          36  \n",
       "244              484                          47  \n",
       "359              462                          50  \n",
       "1531             432                          34  \n",
       "628              393                          23  \n",
       "1695             360                          20  \n",
       "1601             348                          12  \n",
       "1846             320                           7  \n",
       "1637             286                          15  \n",
       "1369             286                          12  \n",
       "1734             284                          13  \n",
       "829              281                          13  \n",
       "344              259                          12  "
      ]
     },
     "metadata": {},
     "output_type": "display_data"
    }
   ],
   "source": [
    "normalized_papers_df = pd.read_csv(\"./data/processed/normalized_papers.csv\")\n",
    "\n",
    "# Sort by citation_count (descending), then by influential_citation (descending) for tie-breaking\n",
    "top_15_cited_df = normalized_papers_df.sort_values(\n",
    "    by=[\"citation_count\", \"influential_citation_count\"], \n",
    "    ascending=[False, False]\n",
    ").head(15)\n",
    "\n",
    "display(top_15_cited_df[[\"title\", \"year\", \"citation_count\", \"influential_citation_count\"]])"
   ]
  },
  {
   "cell_type": "markdown",
   "id": "f02f2cb1",
   "metadata": {},
   "source": [
    "### 1.2 Foundational Papers by In-Corpus Citations\n",
    "This query identifies papers most frequently cited by other papers within this specific corpus. This measures a paper's influence and centrality within this particular research domain."
   ]
  },
  {
   "cell_type": "code",
   "execution_count": 3,
   "id": "2b30bce9",
   "metadata": {},
   "outputs": [
    {
     "name": "stdout",
     "output_type": "stream",
     "text": [
      "\n",
      "Finding the 15 most cited papers by other papers in our corpus...\n"
     ]
    },
    {
     "data": {
      "application/vnd.microsoft.datawrangler.viewer.v0+json": {
       "columns": [
        {
         "name": "index",
         "rawType": "int64",
         "type": "integer"
        },
        {
         "name": "foundational_paper",
         "rawType": "object",
         "type": "string"
        },
        {
         "name": "citations_within_corpus",
         "rawType": "int64",
         "type": "integer"
        }
       ],
       "ref": "8cf1dfc1-923e-4725-93a4-cefb2720953b",
       "rows": [
        [
         "0",
         "Model-Free Real-Time EV Charging Scheduling Based on Deep Reinforcement Learning",
         "39"
        ],
        [
         "1",
         "Reinforcement learning for demand response: A review of algorithms and modeling techniques",
         "31"
        ],
        [
         "2",
         "Reinforcement Learning-Based Plug-in Electric Vehicle Charging With Forecasted Price",
         "24"
        ],
        [
         "3",
         "Incentive-based demand response for smart grid with reinforcement learning and deep neural network",
         "20"
        ],
        [
         "4",
         "A Dynamic pricing demand response algorithm for smart grid: Reinforcement learning approach",
         "18"
        ],
        [
         "5",
         "Optimal Demand Response Using Device-Based Reinforcement Learning",
         "18"
        ],
        [
         "6",
         "CDDPG: A Deep-Reinforcement-Learning-Based Approach for Electric Vehicle Charging Control",
         "17"
        ],
        [
         "7",
         "Reinforcement Learning for Real-Time Pricing and Scheduling Control in EV Charging Stations",
         "17"
        ],
        [
         "8",
         "Definition and Evaluation of Model-Free Coordination of Electrical Vehicle Charging With Reinforcement Learning",
         "16"
        ],
        [
         "9",
         "Demand Response for Home Energy Management Using Reinforcement Learning and Artificial Neural Network",
         "16"
        ],
        [
         "10",
         "Reinforcement Learning Based EV Charging Management Systems–A Review",
         "14"
        ],
        [
         "11",
         "Reinforcement Learning of Heuristic EV Fleet Charging in a Day-Ahead Electricity Market",
         "14"
        ],
        [
         "12",
         "Reinforcement Learning Applied to an Electric Water Heater: From Theory to Practice",
         "12"
        ],
        [
         "13",
         "A Multi-Agent Reinforcement Learning-Based Data-Driven Method for Home Energy Management",
         "12"
        ],
        [
         "14",
         "Optimal Policy Characterization Enhanced Actor-Critic Approach for Electric Vehicle Charging Scheduling in a Power Distribution Network",
         "11"
        ]
       ],
       "shape": {
        "columns": 2,
        "rows": 15
       }
      },
      "text/html": [
       "<div>\n",
       "<style scoped>\n",
       "    .dataframe tbody tr th:only-of-type {\n",
       "        vertical-align: middle;\n",
       "    }\n",
       "\n",
       "    .dataframe tbody tr th {\n",
       "        vertical-align: top;\n",
       "    }\n",
       "\n",
       "    .dataframe thead th {\n",
       "        text-align: right;\n",
       "    }\n",
       "</style>\n",
       "<table border=\"1\" class=\"dataframe\">\n",
       "  <thead>\n",
       "    <tr style=\"text-align: right;\">\n",
       "      <th></th>\n",
       "      <th>foundational_paper</th>\n",
       "      <th>citations_within_corpus</th>\n",
       "    </tr>\n",
       "  </thead>\n",
       "  <tbody>\n",
       "    <tr>\n",
       "      <th>0</th>\n",
       "      <td>Model-Free Real-Time EV Charging Scheduling Ba...</td>\n",
       "      <td>39</td>\n",
       "    </tr>\n",
       "    <tr>\n",
       "      <th>1</th>\n",
       "      <td>Reinforcement learning for demand response: A ...</td>\n",
       "      <td>31</td>\n",
       "    </tr>\n",
       "    <tr>\n",
       "      <th>2</th>\n",
       "      <td>Reinforcement Learning-Based Plug-in Electric ...</td>\n",
       "      <td>24</td>\n",
       "    </tr>\n",
       "    <tr>\n",
       "      <th>3</th>\n",
       "      <td>Incentive-based demand response for smart grid...</td>\n",
       "      <td>20</td>\n",
       "    </tr>\n",
       "    <tr>\n",
       "      <th>4</th>\n",
       "      <td>A Dynamic pricing demand response algorithm fo...</td>\n",
       "      <td>18</td>\n",
       "    </tr>\n",
       "    <tr>\n",
       "      <th>5</th>\n",
       "      <td>Optimal Demand Response Using Device-Based Rei...</td>\n",
       "      <td>18</td>\n",
       "    </tr>\n",
       "    <tr>\n",
       "      <th>6</th>\n",
       "      <td>CDDPG: A Deep-Reinforcement-Learning-Based App...</td>\n",
       "      <td>17</td>\n",
       "    </tr>\n",
       "    <tr>\n",
       "      <th>7</th>\n",
       "      <td>Reinforcement Learning for Real-Time Pricing a...</td>\n",
       "      <td>17</td>\n",
       "    </tr>\n",
       "    <tr>\n",
       "      <th>8</th>\n",
       "      <td>Definition and Evaluation of Model-Free Coordi...</td>\n",
       "      <td>16</td>\n",
       "    </tr>\n",
       "    <tr>\n",
       "      <th>9</th>\n",
       "      <td>Demand Response for Home Energy Management Usi...</td>\n",
       "      <td>16</td>\n",
       "    </tr>\n",
       "    <tr>\n",
       "      <th>10</th>\n",
       "      <td>Reinforcement Learning Based EV Charging Manag...</td>\n",
       "      <td>14</td>\n",
       "    </tr>\n",
       "    <tr>\n",
       "      <th>11</th>\n",
       "      <td>Reinforcement Learning of Heuristic EV Fleet C...</td>\n",
       "      <td>14</td>\n",
       "    </tr>\n",
       "    <tr>\n",
       "      <th>12</th>\n",
       "      <td>Reinforcement Learning Applied to an Electric ...</td>\n",
       "      <td>12</td>\n",
       "    </tr>\n",
       "    <tr>\n",
       "      <th>13</th>\n",
       "      <td>A Multi-Agent Reinforcement Learning-Based Dat...</td>\n",
       "      <td>12</td>\n",
       "    </tr>\n",
       "    <tr>\n",
       "      <th>14</th>\n",
       "      <td>Optimal Policy Characterization Enhanced Actor...</td>\n",
       "      <td>11</td>\n",
       "    </tr>\n",
       "  </tbody>\n",
       "</table>\n",
       "</div>"
      ],
      "text/plain": [
       "                                   foundational_paper  citations_within_corpus\n",
       "0   Model-Free Real-Time EV Charging Scheduling Ba...                       39\n",
       "1   Reinforcement learning for demand response: A ...                       31\n",
       "2   Reinforcement Learning-Based Plug-in Electric ...                       24\n",
       "3   Incentive-based demand response for smart grid...                       20\n",
       "4   A Dynamic pricing demand response algorithm fo...                       18\n",
       "5   Optimal Demand Response Using Device-Based Rei...                       18\n",
       "6   CDDPG: A Deep-Reinforcement-Learning-Based App...                       17\n",
       "7   Reinforcement Learning for Real-Time Pricing a...                       17\n",
       "8   Definition and Evaluation of Model-Free Coordi...                       16\n",
       "9   Demand Response for Home Energy Management Usi...                       16\n",
       "10  Reinforcement Learning Based EV Charging Manag...                       14\n",
       "11  Reinforcement Learning of Heuristic EV Fleet C...                       14\n",
       "12  Reinforcement Learning Applied to an Electric ...                       12\n",
       "13  A Multi-Agent Reinforcement Learning-Based Dat...                       12\n",
       "14  Optimal Policy Characterization Enhanced Actor...                       11"
      ]
     },
     "metadata": {},
     "output_type": "display_data"
    }
   ],
   "source": [
    "# --- Query 2: Most Cited Papers (In-Corpus) ---\n",
    "internal_citations_query = \"\"\"\n",
    "MATCH (p1:Paper)-[:CITES]->(p2:Paper)\n",
    "RETURN p2.title AS foundational_paper, count(p1) AS citations_within_corpus\n",
    "ORDER BY citations_within_corpus DESC\n",
    "LIMIT 15\n",
    "\"\"\"\n",
    "print(\"\\nFinding the 15 most cited papers by other papers in our corpus...\")\n",
    "internal_citations_df = query_to_dataframe(driver, internal_citations_query)\n",
    "display(internal_citations_df)"
   ]
  },
  {
   "cell_type": "markdown",
   "id": "4c86b4cd",
   "metadata": {},
   "source": [
    "## 2. Key Researchers"
   ]
  },
  {
   "cell_type": "markdown",
   "id": "bce35c4b",
   "metadata": {},
   "source": [
    "This section identifies the key researchers in the domain, measured by both productivity (number of papers) and influence (citations received from within the corpus)."
   ]
  },
  {
   "cell_type": "markdown",
   "id": "a93fee5f",
   "metadata": {},
   "source": [
    "### 2.1 Key Researchers by Publication Volume\n",
    "This analysis identifies the most prolific authors by counting the number of papers they have authored in the dataset."
   ]
  },
  {
   "cell_type": "code",
   "execution_count": 4,
   "id": "e3587b57",
   "metadata": {},
   "outputs": [
    {
     "name": "stdout",
     "output_type": "stream",
     "text": [
      "\n",
      "Finding the 15 most prolific authors...\n"
     ]
    },
    {
     "data": {
      "application/vnd.microsoft.datawrangler.viewer.v0+json": {
       "columns": [
        {
         "name": "index",
         "rawType": "int64",
         "type": "integer"
        },
        {
         "name": "author",
         "rawType": "object",
         "type": "string"
        },
        {
         "name": "papers_authored",
         "rawType": "int64",
         "type": "integer"
        }
       ],
       "ref": "89675fe4-b7f2-40a4-85b4-cd88cce33656",
       "rows": [
        [
         "0",
         "Yang Li",
         "12"
        ],
        [
         "1",
         "Qingyu Yang",
         "11"
        ],
        [
         "2",
         "Biwei Huang",
         "10"
        ],
        [
         "3",
         "C. Spanos",
         "10"
        ],
        [
         "4",
         "Lucas Spangher",
         "10"
        ],
        [
         "5",
         "B. Claessens",
         "10"
        ],
        [
         "6",
         "Kun Zhang",
         "9"
        ],
        [
         "7",
         "F. Ruelens",
         "9"
        ],
        [
         "8",
         "Hao Wang",
         "9"
        ],
        [
         "9",
         "Donghe Li",
         "9"
        ],
        [
         "10",
         "Jie Liu",
         "8"
        ],
        [
         "11",
         "Geert Deconinck",
         "8"
        ],
        [
         "12",
         "Chris Develder",
         "8"
        ],
        [
         "13",
         "Xiaoying Tang",
         "8"
        ],
        [
         "14",
         "Dae-Hyun Choi",
         "8"
        ]
       ],
       "shape": {
        "columns": 2,
        "rows": 15
       }
      },
      "text/html": [
       "<div>\n",
       "<style scoped>\n",
       "    .dataframe tbody tr th:only-of-type {\n",
       "        vertical-align: middle;\n",
       "    }\n",
       "\n",
       "    .dataframe tbody tr th {\n",
       "        vertical-align: top;\n",
       "    }\n",
       "\n",
       "    .dataframe thead th {\n",
       "        text-align: right;\n",
       "    }\n",
       "</style>\n",
       "<table border=\"1\" class=\"dataframe\">\n",
       "  <thead>\n",
       "    <tr style=\"text-align: right;\">\n",
       "      <th></th>\n",
       "      <th>author</th>\n",
       "      <th>papers_authored</th>\n",
       "    </tr>\n",
       "  </thead>\n",
       "  <tbody>\n",
       "    <tr>\n",
       "      <th>0</th>\n",
       "      <td>Yang Li</td>\n",
       "      <td>12</td>\n",
       "    </tr>\n",
       "    <tr>\n",
       "      <th>1</th>\n",
       "      <td>Qingyu Yang</td>\n",
       "      <td>11</td>\n",
       "    </tr>\n",
       "    <tr>\n",
       "      <th>2</th>\n",
       "      <td>Biwei Huang</td>\n",
       "      <td>10</td>\n",
       "    </tr>\n",
       "    <tr>\n",
       "      <th>3</th>\n",
       "      <td>C. Spanos</td>\n",
       "      <td>10</td>\n",
       "    </tr>\n",
       "    <tr>\n",
       "      <th>4</th>\n",
       "      <td>Lucas Spangher</td>\n",
       "      <td>10</td>\n",
       "    </tr>\n",
       "    <tr>\n",
       "      <th>5</th>\n",
       "      <td>B. Claessens</td>\n",
       "      <td>10</td>\n",
       "    </tr>\n",
       "    <tr>\n",
       "      <th>6</th>\n",
       "      <td>Kun Zhang</td>\n",
       "      <td>9</td>\n",
       "    </tr>\n",
       "    <tr>\n",
       "      <th>7</th>\n",
       "      <td>F. Ruelens</td>\n",
       "      <td>9</td>\n",
       "    </tr>\n",
       "    <tr>\n",
       "      <th>8</th>\n",
       "      <td>Hao Wang</td>\n",
       "      <td>9</td>\n",
       "    </tr>\n",
       "    <tr>\n",
       "      <th>9</th>\n",
       "      <td>Donghe Li</td>\n",
       "      <td>9</td>\n",
       "    </tr>\n",
       "    <tr>\n",
       "      <th>10</th>\n",
       "      <td>Jie Liu</td>\n",
       "      <td>8</td>\n",
       "    </tr>\n",
       "    <tr>\n",
       "      <th>11</th>\n",
       "      <td>Geert Deconinck</td>\n",
       "      <td>8</td>\n",
       "    </tr>\n",
       "    <tr>\n",
       "      <th>12</th>\n",
       "      <td>Chris Develder</td>\n",
       "      <td>8</td>\n",
       "    </tr>\n",
       "    <tr>\n",
       "      <th>13</th>\n",
       "      <td>Xiaoying Tang</td>\n",
       "      <td>8</td>\n",
       "    </tr>\n",
       "    <tr>\n",
       "      <th>14</th>\n",
       "      <td>Dae-Hyun Choi</td>\n",
       "      <td>8</td>\n",
       "    </tr>\n",
       "  </tbody>\n",
       "</table>\n",
       "</div>"
      ],
      "text/plain": [
       "             author  papers_authored\n",
       "0           Yang Li               12\n",
       "1       Qingyu Yang               11\n",
       "2       Biwei Huang               10\n",
       "3         C. Spanos               10\n",
       "4    Lucas Spangher               10\n",
       "5      B. Claessens               10\n",
       "6         Kun Zhang                9\n",
       "7        F. Ruelens                9\n",
       "8          Hao Wang                9\n",
       "9         Donghe Li                9\n",
       "10          Jie Liu                8\n",
       "11  Geert Deconinck                8\n",
       "12   Chris Develder                8\n",
       "13    Xiaoying Tang                8\n",
       "14    Dae-Hyun Choi                8"
      ]
     },
     "metadata": {},
     "output_type": "display_data"
    }
   ],
   "source": [
    "# --- Query 3: Most Prolific Authors ---\n",
    "prolific_authors_query = \"\"\"\n",
    "MATCH (a:Author)-[:AUTHORED]->(p:Paper)\n",
    "RETURN a.name AS author, count(p) AS papers_authored\n",
    "ORDER BY papers_authored DESC\n",
    "LIMIT 15\n",
    "\"\"\"\n",
    "print(\"\\nFinding the 15 most prolific authors...\")\n",
    "prolific_authors_df = query_to_dataframe(driver, prolific_authors_query)\n",
    "display(prolific_authors_df)"
   ]
  },
  {
   "cell_type": "markdown",
   "id": "8e67f95c",
   "metadata": {},
   "source": [
    "### 2.2 Key Researchers by In-Corpus Citations\n",
    "To measure author influence within the domain, this query counts the total number of in-corpus citations received by all papers written by each author."
   ]
  },
  {
   "cell_type": "code",
   "execution_count": 5,
   "id": "d173c8f8",
   "metadata": {},
   "outputs": [
    {
     "name": "stdout",
     "output_type": "stream",
     "text": [
      "\n",
      "Finding the 15 most influential authors based on in-corpus citations...\n"
     ]
    },
    {
     "data": {
      "application/vnd.microsoft.datawrangler.viewer.v0+json": {
       "columns": [
        {
         "name": "index",
         "rawType": "int64",
         "type": "integer"
        },
        {
         "name": "author",
         "rawType": "object",
         "type": "string"
        },
        {
         "name": "in_corpus_citations",
         "rawType": "int64",
         "type": "integer"
        }
       ],
       "ref": "770674b6-846c-461e-b0b4-ec727c469516",
       "rows": [
        [
         "0",
         "Renzhi Lu",
         "65"
        ],
        [
         "1",
         "S. Hong",
         "58"
        ],
        [
         "2",
         "B. Claessens",
         "43"
        ],
        [
         "3",
         "Haibo He",
         "40"
        ],
        [
         "4",
         "Hepeng Li",
         "40"
        ],
        [
         "5",
         "Zhiqiang Wan",
         "40"
        ],
        [
         "6",
         "D. Prokhorov",
         "40"
        ],
        [
         "7",
         "José R. Vázquez-Canteli",
         "35"
        ],
        [
         "8",
         "Z. Nagy",
         "35"
        ],
        [
         "9",
         "F. Ruelens",
         "31"
        ],
        [
         "10",
         "Stijn Vandael",
         "29"
        ],
        [
         "11",
         "J. Lundén",
         "26"
        ],
        [
         "12",
         "V. Koivunen",
         "26"
        ],
        [
         "13",
         "A. Chiş",
         "26"
        ],
        [
         "14",
         "Qingyu Yang",
         "23"
        ]
       ],
       "shape": {
        "columns": 2,
        "rows": 15
       }
      },
      "text/html": [
       "<div>\n",
       "<style scoped>\n",
       "    .dataframe tbody tr th:only-of-type {\n",
       "        vertical-align: middle;\n",
       "    }\n",
       "\n",
       "    .dataframe tbody tr th {\n",
       "        vertical-align: top;\n",
       "    }\n",
       "\n",
       "    .dataframe thead th {\n",
       "        text-align: right;\n",
       "    }\n",
       "</style>\n",
       "<table border=\"1\" class=\"dataframe\">\n",
       "  <thead>\n",
       "    <tr style=\"text-align: right;\">\n",
       "      <th></th>\n",
       "      <th>author</th>\n",
       "      <th>in_corpus_citations</th>\n",
       "    </tr>\n",
       "  </thead>\n",
       "  <tbody>\n",
       "    <tr>\n",
       "      <th>0</th>\n",
       "      <td>Renzhi Lu</td>\n",
       "      <td>65</td>\n",
       "    </tr>\n",
       "    <tr>\n",
       "      <th>1</th>\n",
       "      <td>S. Hong</td>\n",
       "      <td>58</td>\n",
       "    </tr>\n",
       "    <tr>\n",
       "      <th>2</th>\n",
       "      <td>B. Claessens</td>\n",
       "      <td>43</td>\n",
       "    </tr>\n",
       "    <tr>\n",
       "      <th>3</th>\n",
       "      <td>Haibo He</td>\n",
       "      <td>40</td>\n",
       "    </tr>\n",
       "    <tr>\n",
       "      <th>4</th>\n",
       "      <td>Hepeng Li</td>\n",
       "      <td>40</td>\n",
       "    </tr>\n",
       "    <tr>\n",
       "      <th>5</th>\n",
       "      <td>Zhiqiang Wan</td>\n",
       "      <td>40</td>\n",
       "    </tr>\n",
       "    <tr>\n",
       "      <th>6</th>\n",
       "      <td>D. Prokhorov</td>\n",
       "      <td>40</td>\n",
       "    </tr>\n",
       "    <tr>\n",
       "      <th>7</th>\n",
       "      <td>José R. Vázquez-Canteli</td>\n",
       "      <td>35</td>\n",
       "    </tr>\n",
       "    <tr>\n",
       "      <th>8</th>\n",
       "      <td>Z. Nagy</td>\n",
       "      <td>35</td>\n",
       "    </tr>\n",
       "    <tr>\n",
       "      <th>9</th>\n",
       "      <td>F. Ruelens</td>\n",
       "      <td>31</td>\n",
       "    </tr>\n",
       "    <tr>\n",
       "      <th>10</th>\n",
       "      <td>Stijn Vandael</td>\n",
       "      <td>29</td>\n",
       "    </tr>\n",
       "    <tr>\n",
       "      <th>11</th>\n",
       "      <td>J. Lundén</td>\n",
       "      <td>26</td>\n",
       "    </tr>\n",
       "    <tr>\n",
       "      <th>12</th>\n",
       "      <td>V. Koivunen</td>\n",
       "      <td>26</td>\n",
       "    </tr>\n",
       "    <tr>\n",
       "      <th>13</th>\n",
       "      <td>A. Chiş</td>\n",
       "      <td>26</td>\n",
       "    </tr>\n",
       "    <tr>\n",
       "      <th>14</th>\n",
       "      <td>Qingyu Yang</td>\n",
       "      <td>23</td>\n",
       "    </tr>\n",
       "  </tbody>\n",
       "</table>\n",
       "</div>"
      ],
      "text/plain": [
       "                     author  in_corpus_citations\n",
       "0                 Renzhi Lu                   65\n",
       "1                   S. Hong                   58\n",
       "2              B. Claessens                   43\n",
       "3                  Haibo He                   40\n",
       "4                 Hepeng Li                   40\n",
       "5              Zhiqiang Wan                   40\n",
       "6              D. Prokhorov                   40\n",
       "7   José R. Vázquez-Canteli                   35\n",
       "8                   Z. Nagy                   35\n",
       "9                F. Ruelens                   31\n",
       "10            Stijn Vandael                   29\n",
       "11                J. Lundén                   26\n",
       "12              V. Koivunen                   26\n",
       "13                  A. Chiş                   26\n",
       "14              Qingyu Yang                   23"
      ]
     },
     "metadata": {},
     "output_type": "display_data"
    }
   ],
   "source": [
    "# --- Query 4: Author Influence by In-Corpus Citations ---\n",
    "author_influence_query = \"\"\"\n",
    "MATCH (author:Author)-[:AUTHORED]->(paper:Paper)<-[:CITES]-(citingPaper:Paper)\n",
    "RETURN author.name as author, count(citingPaper) as in_corpus_citations\n",
    "ORDER BY in_corpus_citations DESC\n",
    "LIMIT 15\n",
    "\"\"\"\n",
    "print(\"\\nFinding the 15 most influential authors based on in-corpus citations...\")\n",
    "author_influence_df = query_to_dataframe(driver, author_influence_query)\n",
    "display(author_influence_df)"
   ]
  },
  {
   "cell_type": "markdown",
   "id": "dff893f8",
   "metadata": {},
   "source": [
    "## 3. Top Publication Venues\n",
    "This query identifies the journals and conferences where the research in the corpus is most frequently published."
   ]
  },
  {
   "cell_type": "code",
   "execution_count": 6,
   "id": "1b97145a",
   "metadata": {},
   "outputs": [
    {
     "name": "stdout",
     "output_type": "stream",
     "text": [
      "\n",
      "Finding the top 15 publication venues...\n"
     ]
    },
    {
     "data": {
      "application/vnd.microsoft.datawrangler.viewer.v0+json": {
       "columns": [
        {
         "name": "index",
         "rawType": "int64",
         "type": "integer"
        },
        {
         "name": "venue",
         "rawType": "object",
         "type": "string"
        },
        {
         "name": "paper_count",
         "rawType": "int64",
         "type": "integer"
        }
       ],
       "ref": "850cac3e-93b9-45ba-88bb-7a2724c64c2d",
       "rows": [
        [
         "0",
         "arXiv.org",
         "174"
        ],
        [
         "1",
         "IEEE Access",
         "62"
        ],
        [
         "2",
         "IEEE Transactions on Smart Grid",
         "55"
        ],
        [
         "3",
         "Energies",
         "47"
        ],
        [
         "4",
         "IEEE Internet of Things Journal",
         "24"
        ],
        [
         "5",
         "Applied Energy",
         "22"
        ],
        [
         "6",
         "IEEE transactions on intelligent transportation systems (Print)",
         "22"
        ],
        [
         "7",
         "IEEE Transactions on Industrial Informatics",
         "18"
        ],
        [
         "8",
         "IEEE Power & Energy Society General Meeting",
         "17"
        ],
        [
         "9",
         "IEEE PES Innovative Smart Grid Technologies Conference Europe",
         "17"
        ],
        [
         "10",
         "Neural Information Processing Systems",
         "16"
        ],
        [
         "11",
         "International Conference on Learning Representations",
         "15"
        ],
        [
         "12",
         "AAAI Conference on Artificial Intelligence",
         "14"
        ],
        [
         "13",
         "Italian National Conference on Sensors",
         "13"
        ],
        [
         "14",
         "Applied Sciences",
         "12"
        ]
       ],
       "shape": {
        "columns": 2,
        "rows": 15
       }
      },
      "text/html": [
       "<div>\n",
       "<style scoped>\n",
       "    .dataframe tbody tr th:only-of-type {\n",
       "        vertical-align: middle;\n",
       "    }\n",
       "\n",
       "    .dataframe tbody tr th {\n",
       "        vertical-align: top;\n",
       "    }\n",
       "\n",
       "    .dataframe thead th {\n",
       "        text-align: right;\n",
       "    }\n",
       "</style>\n",
       "<table border=\"1\" class=\"dataframe\">\n",
       "  <thead>\n",
       "    <tr style=\"text-align: right;\">\n",
       "      <th></th>\n",
       "      <th>venue</th>\n",
       "      <th>paper_count</th>\n",
       "    </tr>\n",
       "  </thead>\n",
       "  <tbody>\n",
       "    <tr>\n",
       "      <th>0</th>\n",
       "      <td>arXiv.org</td>\n",
       "      <td>174</td>\n",
       "    </tr>\n",
       "    <tr>\n",
       "      <th>1</th>\n",
       "      <td>IEEE Access</td>\n",
       "      <td>62</td>\n",
       "    </tr>\n",
       "    <tr>\n",
       "      <th>2</th>\n",
       "      <td>IEEE Transactions on Smart Grid</td>\n",
       "      <td>55</td>\n",
       "    </tr>\n",
       "    <tr>\n",
       "      <th>3</th>\n",
       "      <td>Energies</td>\n",
       "      <td>47</td>\n",
       "    </tr>\n",
       "    <tr>\n",
       "      <th>4</th>\n",
       "      <td>IEEE Internet of Things Journal</td>\n",
       "      <td>24</td>\n",
       "    </tr>\n",
       "    <tr>\n",
       "      <th>5</th>\n",
       "      <td>Applied Energy</td>\n",
       "      <td>22</td>\n",
       "    </tr>\n",
       "    <tr>\n",
       "      <th>6</th>\n",
       "      <td>IEEE transactions on intelligent transportatio...</td>\n",
       "      <td>22</td>\n",
       "    </tr>\n",
       "    <tr>\n",
       "      <th>7</th>\n",
       "      <td>IEEE Transactions on Industrial Informatics</td>\n",
       "      <td>18</td>\n",
       "    </tr>\n",
       "    <tr>\n",
       "      <th>8</th>\n",
       "      <td>IEEE Power &amp; Energy Society General Meeting</td>\n",
       "      <td>17</td>\n",
       "    </tr>\n",
       "    <tr>\n",
       "      <th>9</th>\n",
       "      <td>IEEE PES Innovative Smart Grid Technologies Co...</td>\n",
       "      <td>17</td>\n",
       "    </tr>\n",
       "    <tr>\n",
       "      <th>10</th>\n",
       "      <td>Neural Information Processing Systems</td>\n",
       "      <td>16</td>\n",
       "    </tr>\n",
       "    <tr>\n",
       "      <th>11</th>\n",
       "      <td>International Conference on Learning Represent...</td>\n",
       "      <td>15</td>\n",
       "    </tr>\n",
       "    <tr>\n",
       "      <th>12</th>\n",
       "      <td>AAAI Conference on Artificial Intelligence</td>\n",
       "      <td>14</td>\n",
       "    </tr>\n",
       "    <tr>\n",
       "      <th>13</th>\n",
       "      <td>Italian National Conference on Sensors</td>\n",
       "      <td>13</td>\n",
       "    </tr>\n",
       "    <tr>\n",
       "      <th>14</th>\n",
       "      <td>Applied Sciences</td>\n",
       "      <td>12</td>\n",
       "    </tr>\n",
       "  </tbody>\n",
       "</table>\n",
       "</div>"
      ],
      "text/plain": [
       "                                                venue  paper_count\n",
       "0                                           arXiv.org          174\n",
       "1                                         IEEE Access           62\n",
       "2                     IEEE Transactions on Smart Grid           55\n",
       "3                                            Energies           47\n",
       "4                     IEEE Internet of Things Journal           24\n",
       "5                                      Applied Energy           22\n",
       "6   IEEE transactions on intelligent transportatio...           22\n",
       "7         IEEE Transactions on Industrial Informatics           18\n",
       "8         IEEE Power & Energy Society General Meeting           17\n",
       "9   IEEE PES Innovative Smart Grid Technologies Co...           17\n",
       "10              Neural Information Processing Systems           16\n",
       "11  International Conference on Learning Represent...           15\n",
       "12         AAAI Conference on Artificial Intelligence           14\n",
       "13             Italian National Conference on Sensors           13\n",
       "14                                   Applied Sciences           12"
      ]
     },
     "metadata": {},
     "output_type": "display_data"
    }
   ],
   "source": [
    "# --- Query 5: Top Venues ---\n",
    "top_venues_query = \"\"\"\n",
    "MATCH (p:Paper)-[:PUBLISHED_IN]->(v:Venue)\n",
    "RETURN v.name AS venue, count(p) AS paper_count\n",
    "ORDER BY paper_count DESC\n",
    "LIMIT 15\n",
    "\"\"\"\n",
    "print(\"\\nFinding the top 15 publication venues...\")\n",
    "top_venues_df = query_to_dataframe(driver, top_venues_query)\n",
    "display(top_venues_df)"
   ]
  },
  {
   "cell_type": "markdown",
   "id": "18bf3888",
   "metadata": {},
   "source": [
    "## 4. Dominant Fields of Study\n",
    "This analysis shows the disciplinary distribution of the papers in the corpus, highlighting the most common fields of study."
   ]
  },
  {
   "cell_type": "code",
   "execution_count": 7,
   "id": "dcd86d6b",
   "metadata": {},
   "outputs": [
    {
     "name": "stdout",
     "output_type": "stream",
     "text": [
      "\n",
      "Finding the top 10 most common fields of study...\n"
     ]
    },
    {
     "data": {
      "application/vnd.microsoft.datawrangler.viewer.v0+json": {
       "columns": [
        {
         "name": "index",
         "rawType": "int64",
         "type": "integer"
        },
        {
         "name": "field_of_study",
         "rawType": "object",
         "type": "string"
        },
        {
         "name": "number_of_papers",
         "rawType": "int64",
         "type": "integer"
        }
       ],
       "ref": "f25ad19f-91f8-4adb-85cc-3905125c7d1d",
       "rows": [
        [
         "0",
         "Computer Science",
         "1083"
        ],
        [
         "1",
         "Engineering",
         "145"
        ],
        [
         "2",
         "Medicine",
         "127"
        ],
        [
         "3",
         "Mathematics",
         "83"
        ],
        [
         "4",
         "Psychology",
         "65"
        ],
        [
         "5",
         "Physics",
         "23"
        ],
        [
         "6",
         "Biology",
         "23"
        ],
        [
         "7",
         "Economics",
         "16"
        ],
        [
         "8",
         "Business",
         "11"
        ],
        [
         "9",
         "Environmental Science",
         "3"
        ]
       ],
       "shape": {
        "columns": 2,
        "rows": 10
       }
      },
      "text/html": [
       "<div>\n",
       "<style scoped>\n",
       "    .dataframe tbody tr th:only-of-type {\n",
       "        vertical-align: middle;\n",
       "    }\n",
       "\n",
       "    .dataframe tbody tr th {\n",
       "        vertical-align: top;\n",
       "    }\n",
       "\n",
       "    .dataframe thead th {\n",
       "        text-align: right;\n",
       "    }\n",
       "</style>\n",
       "<table border=\"1\" class=\"dataframe\">\n",
       "  <thead>\n",
       "    <tr style=\"text-align: right;\">\n",
       "      <th></th>\n",
       "      <th>field_of_study</th>\n",
       "      <th>number_of_papers</th>\n",
       "    </tr>\n",
       "  </thead>\n",
       "  <tbody>\n",
       "    <tr>\n",
       "      <th>0</th>\n",
       "      <td>Computer Science</td>\n",
       "      <td>1083</td>\n",
       "    </tr>\n",
       "    <tr>\n",
       "      <th>1</th>\n",
       "      <td>Engineering</td>\n",
       "      <td>145</td>\n",
       "    </tr>\n",
       "    <tr>\n",
       "      <th>2</th>\n",
       "      <td>Medicine</td>\n",
       "      <td>127</td>\n",
       "    </tr>\n",
       "    <tr>\n",
       "      <th>3</th>\n",
       "      <td>Mathematics</td>\n",
       "      <td>83</td>\n",
       "    </tr>\n",
       "    <tr>\n",
       "      <th>4</th>\n",
       "      <td>Psychology</td>\n",
       "      <td>65</td>\n",
       "    </tr>\n",
       "    <tr>\n",
       "      <th>5</th>\n",
       "      <td>Physics</td>\n",
       "      <td>23</td>\n",
       "    </tr>\n",
       "    <tr>\n",
       "      <th>6</th>\n",
       "      <td>Biology</td>\n",
       "      <td>23</td>\n",
       "    </tr>\n",
       "    <tr>\n",
       "      <th>7</th>\n",
       "      <td>Economics</td>\n",
       "      <td>16</td>\n",
       "    </tr>\n",
       "    <tr>\n",
       "      <th>8</th>\n",
       "      <td>Business</td>\n",
       "      <td>11</td>\n",
       "    </tr>\n",
       "    <tr>\n",
       "      <th>9</th>\n",
       "      <td>Environmental Science</td>\n",
       "      <td>3</td>\n",
       "    </tr>\n",
       "  </tbody>\n",
       "</table>\n",
       "</div>"
      ],
      "text/plain": [
       "          field_of_study  number_of_papers\n",
       "0       Computer Science              1083\n",
       "1            Engineering               145\n",
       "2               Medicine               127\n",
       "3            Mathematics                83\n",
       "4             Psychology                65\n",
       "5                Physics                23\n",
       "6                Biology                23\n",
       "7              Economics                16\n",
       "8               Business                11\n",
       "9  Environmental Science                 3"
      ]
     },
     "metadata": {},
     "output_type": "display_data"
    }
   ],
   "source": [
    "# --- Query 6: Most common Fields of Study ---\n",
    "papers_by_fos_query = \"\"\"\n",
    "MATCH (p:Paper)-[:HAS_FIELD]->(f:FieldOfStudy)\n",
    "RETURN f.name AS field_of_study, count(p) AS number_of_papers\n",
    "ORDER BY number_of_papers DESC\n",
    "LIMIT 10\n",
    "\"\"\"\n",
    "print(\"\\nFinding the top 10 most common fields of study...\")\n",
    "papers_by_fos_df = query_to_dataframe(driver, papers_by_fos_query)\n",
    "display(papers_by_fos_df)"
   ]
  },
  {
   "cell_type": "markdown",
   "id": "ce6bf384",
   "metadata": {},
   "source": [
    "## 5. Publication Timeline\n",
    "This query shows the volume of publications per year, illustrating the evolution and growth of the research field over time."
   ]
  },
  {
   "cell_type": "code",
   "execution_count": 8,
   "id": "1dd612c1",
   "metadata": {},
   "outputs": [
    {
     "name": "stdout",
     "output_type": "stream",
     "text": [
      "\n",
      "Calculating publication counts per year...\n"
     ]
    },
    {
     "data": {
      "image/png": "[encoded data removed]",
      "text/plain": [
       "<Figure size 1200x600 with 1 Axes>"
      ]
     },
     "metadata": {},
     "output_type": "display_data"
    }
   ],
   "source": [
    "# --- Query 7: Publications Over Time ---\n",
    "timeline_query = \"\"\"\n",
    "MATCH (p:Paper)\n",
    "WHERE p.year IS NOT NULL\n",
    "RETURN p.year AS publication_year, count(p) AS number_of_papers\n",
    "ORDER BY publication_year ASC\n",
    "\"\"\"\n",
    "print(\"\\nCalculating publication counts per year...\")\n",
    "timeline_df = query_to_dataframe(driver, timeline_query)\n",
    "\n",
    "# Plotting the results\n",
    "plt.style.use('seaborn-v0_8-whitegrid')\n",
    "fig, ax = plt.subplots(figsize=(12, 6))\n",
    "timeline_df.plot(kind='bar', x='publication_year', y='number_of_papers', ax=ax, legend=False)\n",
    "ax.set_title('Number of Publications Per Year in the Corpus')\n",
    "ax.set_xlabel('Year')\n",
    "ax.set_ylabel('Number of Papers')\n",
    "plt.xticks(rotation=45)\n",
    "plt.tight_layout()\n",
    "plt.show()"
   ]
  }
 ],
 "metadata": {
  "kernelspec": {
   "display_name": "causal-rl-ev",
   "language": "python",
   "name": "python3"
  },
  "language_info": {
   "codemirror_mode": {
    "name": "ipython",
    "version": 3
   },
   "file_extension": ".py",
   "mimetype": "text/x-python",
   "name": "python",
   "nbconvert_exporter": "python",
   "pygments_lexer": "ipython3",
   "version": "3.11.8"
  }
 },
 "nbformat": 4,
 "nbformat_minor": 5
}
