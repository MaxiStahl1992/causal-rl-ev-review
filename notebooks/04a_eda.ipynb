{
 "cells": [
  {
   "cell_type": "code",
   "execution_count": 1,
   "id": "9e134140",
   "metadata": {},
   "outputs": [],
   "source": [
    "import os\n",
    "from pathlib import Path\n",
    "from datetime import datetime\n",
    "from typing import Iterable, Dict, Any, List\n",
    "\n",
    "import pandas as pd\n",
    "from neo4j import GraphDatabase, basic_auth\n",
    "from neo4j.exceptions import ServiceUnavailable, TransientError\n",
    "from dotenv import load_dotenv"
   ]
  },
  {
   "cell_type": "code",
   "execution_count": 13,
   "id": "c8c92941",
   "metadata": {},
   "outputs": [
    {
     "name": "stdout",
     "output_type": "stream",
     "text": [
      "Loaded .env file from: /Users/stahlma/Desktop/01_Studium/10_Seminar/causal-rl-ev-review/.env\n",
      "✅ Connection to Neo4j successful!\n"
     ]
    }
   ],
   "source": [
    "project_dir = Path().cwd()\n",
    "dotenv_path = project_dir / '.env'\n",
    "\n",
    "# Checks if the .env file exists at the constructed path before loading.\n",
    "if dotenv_path.exists():\n",
    "    # Loads the environment variables from the found .env file.\n",
    "    load_dotenv(dotenv_path=dotenv_path)\n",
    "    print(f\"Loaded .env file from: {dotenv_path}\")\n",
    "else:\n",
    "    print(f\".env file not found at: {dotenv_path}\")\n",
    "\n",
    "load_dotenv(dotenv_path=dotenv_path)\n",
    "URI  = os.getenv(\"NEO4J_URI\") \n",
    "URI = os.getenv(\"NEO4J_URI\")\n",
    "AUTH = (os.getenv(\"NEO4J_USERNAME\"), os.getenv(\"NEO4J_PASSWORD\"))\n",
    "\n",
    "\n",
    "# Create a helper function to display results nicely\n",
    "def query_to_dataframe(driver, query, **params):\n",
    "    \"\"\"Runs a query and returns the results as a pandas DataFrame.\"\"\"\n",
    "    with driver.session() as session:\n",
    "        result = session.run(query, **params)\n",
    "        return pd.DataFrame([r.data() for r in result])\n",
    "\n",
    "# Establish the connection to the database\n",
    "try:\n",
    "    driver = GraphDatabase.driver(URI, auth=AUTH)\n",
    "    driver.verify_connectivity()\n",
    "    print(\"✅ Connection to Neo4j successful!\")\n",
    "except Exception as e:\n",
    "    print(f\"❌ Failed to connect to Neo4j: {e}\")"
   ]
  },
  {
   "cell_type": "markdown",
   "id": "6352c3fa",
   "metadata": {},
   "source": [
    "# 1. Most Prolific Authors"
   ]
  },
  {
   "cell_type": "code",
   "execution_count": 4,
   "id": "2297c9ef",
   "metadata": {},
   "outputs": [
    {
     "name": "stdout",
     "output_type": "stream",
     "text": [
      "Finding the 15 most prolific authors...\n"
     ]
    },
    {
     "data": {
      "application/vnd.microsoft.datawrangler.viewer.v0+json": {
       "columns": [
        {
         "name": "index",
         "rawType": "int64",
         "type": "integer"
        },
        {
         "name": "author",
         "rawType": "object",
         "type": "string"
        },
        {
         "name": "papers_authored",
         "rawType": "int64",
         "type": "integer"
        }
       ],
       "ref": "fa6dedf0-da71-4422-aac9-dc07d6411258",
       "rows": [
        [
         "0",
         "Yang Li",
         "12"
        ],
        [
         "1",
         "Qingyu Yang",
         "11"
        ],
        [
         "2",
         "Biwei Huang",
         "10"
        ],
        [
         "3",
         "C. Spanos",
         "10"
        ],
        [
         "4",
         "Lucas Spangher",
         "10"
        ],
        [
         "5",
         "B. Claessens",
         "10"
        ],
        [
         "6",
         "Kun Zhang",
         "9"
        ],
        [
         "7",
         "F. Ruelens",
         "9"
        ],
        [
         "8",
         "Hao Wang",
         "9"
        ],
        [
         "9",
         "Donghe Li",
         "9"
        ],
        [
         "10",
         "Jie Liu",
         "8"
        ],
        [
         "11",
         "Geert Deconinck",
         "8"
        ],
        [
         "12",
         "Chris Develder",
         "8"
        ],
        [
         "13",
         "Xiaoying Tang",
         "8"
        ],
        [
         "14",
         "Dae-Hyun Choi",
         "8"
        ]
       ],
       "shape": {
        "columns": 2,
        "rows": 15
       }
      },
      "text/html": [
       "<div>\n",
       "<style scoped>\n",
       "    .dataframe tbody tr th:only-of-type {\n",
       "        vertical-align: middle;\n",
       "    }\n",
       "\n",
       "    .dataframe tbody tr th {\n",
       "        vertical-align: top;\n",
       "    }\n",
       "\n",
       "    .dataframe thead th {\n",
       "        text-align: right;\n",
       "    }\n",
       "</style>\n",
       "<table border=\"1\" class=\"dataframe\">\n",
       "  <thead>\n",
       "    <tr style=\"text-align: right;\">\n",
       "      <th></th>\n",
       "      <th>author</th>\n",
       "      <th>papers_authored</th>\n",
       "    </tr>\n",
       "  </thead>\n",
       "  <tbody>\n",
       "    <tr>\n",
       "      <th>0</th>\n",
       "      <td>Yang Li</td>\n",
       "      <td>12</td>\n",
       "    </tr>\n",
       "    <tr>\n",
       "      <th>1</th>\n",
       "      <td>Qingyu Yang</td>\n",
       "      <td>11</td>\n",
       "    </tr>\n",
       "    <tr>\n",
       "      <th>2</th>\n",
       "      <td>Biwei Huang</td>\n",
       "      <td>10</td>\n",
       "    </tr>\n",
       "    <tr>\n",
       "      <th>3</th>\n",
       "      <td>C. Spanos</td>\n",
       "      <td>10</td>\n",
       "    </tr>\n",
       "    <tr>\n",
       "      <th>4</th>\n",
       "      <td>Lucas Spangher</td>\n",
       "      <td>10</td>\n",
       "    </tr>\n",
       "    <tr>\n",
       "      <th>5</th>\n",
       "      <td>B. Claessens</td>\n",
       "      <td>10</td>\n",
       "    </tr>\n",
       "    <tr>\n",
       "      <th>6</th>\n",
       "      <td>Kun Zhang</td>\n",
       "      <td>9</td>\n",
       "    </tr>\n",
       "    <tr>\n",
       "      <th>7</th>\n",
       "      <td>F. Ruelens</td>\n",
       "      <td>9</td>\n",
       "    </tr>\n",
       "    <tr>\n",
       "      <th>8</th>\n",
       "      <td>Hao Wang</td>\n",
       "      <td>9</td>\n",
       "    </tr>\n",
       "    <tr>\n",
       "      <th>9</th>\n",
       "      <td>Donghe Li</td>\n",
       "      <td>9</td>\n",
       "    </tr>\n",
       "    <tr>\n",
       "      <th>10</th>\n",
       "      <td>Jie Liu</td>\n",
       "      <td>8</td>\n",
       "    </tr>\n",
       "    <tr>\n",
       "      <th>11</th>\n",
       "      <td>Geert Deconinck</td>\n",
       "      <td>8</td>\n",
       "    </tr>\n",
       "    <tr>\n",
       "      <th>12</th>\n",
       "      <td>Chris Develder</td>\n",
       "      <td>8</td>\n",
       "    </tr>\n",
       "    <tr>\n",
       "      <th>13</th>\n",
       "      <td>Xiaoying Tang</td>\n",
       "      <td>8</td>\n",
       "    </tr>\n",
       "    <tr>\n",
       "      <th>14</th>\n",
       "      <td>Dae-Hyun Choi</td>\n",
       "      <td>8</td>\n",
       "    </tr>\n",
       "  </tbody>\n",
       "</table>\n",
       "</div>"
      ],
      "text/plain": [
       "             author  papers_authored\n",
       "0           Yang Li               12\n",
       "1       Qingyu Yang               11\n",
       "2       Biwei Huang               10\n",
       "3         C. Spanos               10\n",
       "4    Lucas Spangher               10\n",
       "5      B. Claessens               10\n",
       "6         Kun Zhang                9\n",
       "7        F. Ruelens                9\n",
       "8          Hao Wang                9\n",
       "9         Donghe Li                9\n",
       "10          Jie Liu                8\n",
       "11  Geert Deconinck                8\n",
       "12   Chris Develder                8\n",
       "13    Xiaoying Tang                8\n",
       "14    Dae-Hyun Choi                8"
      ]
     },
     "metadata": {},
     "output_type": "display_data"
    }
   ],
   "source": [
    "# --- Query 1: Most Prolific Authors ---\n",
    "prolific_authors_query = \"\"\"\n",
    "MATCH (a:Author)-[:AUTHORED]->(p:Paper)\n",
    "RETURN a.name AS author, count(p) AS papers_authored\n",
    "ORDER BY papers_authored DESC\n",
    "LIMIT 15\n",
    "\"\"\"\n",
    "print(\"Finding the 15 most prolific authors...\")\n",
    "prolific_authors_df = query_to_dataframe(driver, prolific_authors_query)\n",
    "display(prolific_authors_df)"
   ]
  },
  {
   "cell_type": "markdown",
   "id": "b84b6a8c",
   "metadata": {},
   "source": [
    "# 2. Most Influential Papers"
   ]
  },
  {
   "cell_type": "code",
   "execution_count": 11,
   "id": "0ca568c5",
   "metadata": {},
   "outputs": [
    {
     "data": {
      "application/vnd.microsoft.datawrangler.viewer.v0+json": {
       "columns": [
        {
         "name": "index",
         "rawType": "int64",
         "type": "integer"
        },
        {
         "name": "title",
         "rawType": "object",
         "type": "string"
        },
        {
         "name": "year",
         "rawType": "float64",
         "type": "float"
        },
        {
         "name": "citation_count",
         "rawType": "int64",
         "type": "integer"
        },
        {
         "name": "influential_citation_count",
         "rawType": "int64",
         "type": "integer"
        }
       ],
       "ref": "55f5e860-cac0-4a98-874a-e0feb918dcbf",
       "rows": [
        [
         "315",
         "Decision Transformer: Reinforcement Learning via Sequence Modeling",
         "2021.0",
         "1747",
         "301"
        ],
        [
         "1450",
         "Reinforcement learning for demand response: A review of algorithms and modeling techniques",
         "2019.0",
         "604",
         "15"
        ],
        [
         "1317",
         "Perceptual Learning Directs Auditory Cortical Map Reorganization through Top-Down Influences",
         "2006.0",
         "568",
         "36"
        ],
        [
         "244",
         "Reinforcement Knowledge Graph Reasoning for Explainable Recommendation",
         "2019.0",
         "484",
         "47"
        ],
        [
         "359",
         "Social Influence as Intrinsic Motivation for Multi-Agent Deep Reinforcement Learning",
         "2018.0",
         "462",
         "50"
        ],
        [
         "1531",
         "Working-memory capacity protects model-based learning from stress",
         "2013.0",
         "432",
         "34"
        ],
        [
         "628",
         "Model-Free Real-Time EV Charging Scheduling Based on Deep Reinforcement Learning",
         "2019.0",
         "393",
         "23"
        ],
        [
         "1695",
         "A Dynamic pricing demand response algorithm for smart grid: Reinforcement learning approach",
         "2018.0",
         "360",
         "20"
        ],
        [
         "1601",
         "Deep Reinforcement Learning for Power System Applications: An Overview",
         "2020.0",
         "348",
         "12"
        ],
        [
         "1846",
         "Incentive-based demand response for smart grid with reinforcement learning and deep neural network",
         "2019.0",
         "320",
         "7"
        ],
        [
         "1637",
         "A Multi-Agent Reinforcement Learning-Based Data-Driven Method for Home Energy Management",
         "2020.0",
         "286",
         "15"
        ],
        [
         "1369",
         "Demand Response for Home Energy Management Using Reinforcement Learning and Artificial Neural Network",
         "2019.0",
         "286",
         "12"
        ],
        [
         "1734",
         "VCONF: a reinforcement learning approach to virtual machines auto-configuration",
         "2009.0",
         "284",
         "13"
        ],
        [
         "829",
         "Constrained EV Charging Scheduling Based on Safe Deep Reinforcement Learning",
         "2020.0",
         "281",
         "13"
        ],
        [
         "344",
         "Effects of Hemi‐Portocaval Shunts For Inflow Modulation on the Outcome of Small‐for‐Size Grafts in Living Donor Liver Transplantation",
         "2005.0",
         "259",
         "12"
        ],
        [
         "1042",
         "Residential Demand Response of Thermostatically Controlled Loads Using Batch Reinforcement Learning",
         "2017.0",
         "258",
         "10"
        ],
        [
         "1069",
         "Intelligent Multi-Microgrid Energy Management Based on Deep Neural Network and Model-Free Reinforcement Learning",
         "2020.0",
         "251",
         "2"
        ],
        [
         "393",
         "Causal Discovery with Reinforcement Learning",
         "2019.0",
         "248",
         "23"
        ],
        [
         "1086",
         "Optimal Demand Response Using Device-Based Reinforcement Learning",
         "2014.0",
         "236",
         "4"
        ],
        [
         "1789",
         "A Data-Driven Multi-Agent Autonomous Voltage Control Framework Using Deep Reinforcement Learning",
         "2020.0",
         "206",
         "7"
        ],
        [
         "1587",
         "Efficient Ridesharing Order Dispatching with Mean Field Multi-Agent Reinforcement Learning",
         "2019.0",
         "204",
         "12"
        ],
        [
         "1235",
         "Reinforcement learning for whole-building HVAC control and demand response",
         "2020.0",
         "187",
         "4"
        ],
        [
         "1269",
         "Optimal Scheduling of Isolated Microgrids Using Automated Reinforcement Learning-Based Multi-Period Forecasting",
         "2021.0",
         "186",
         "1"
        ],
        [
         "460",
         "Deep Reinforcement Learning for EV Charging Navigation by Coordinating Smart Grid and Intelligent Transportation System",
         "2020.0",
         "179",
         "9"
        ],
        [
         "778",
         "Reinforcement Learning of Heuristic EV Fleet Charging in a Day-Ahead Electricity Market",
         "2015.0",
         "178",
         "7"
        ]
       ],
       "shape": {
        "columns": 4,
        "rows": 25
       }
      },
      "text/html": [
       "<div>\n",
       "<style scoped>\n",
       "    .dataframe tbody tr th:only-of-type {\n",
       "        vertical-align: middle;\n",
       "    }\n",
       "\n",
       "    .dataframe tbody tr th {\n",
       "        vertical-align: top;\n",
       "    }\n",
       "\n",
       "    .dataframe thead th {\n",
       "        text-align: right;\n",
       "    }\n",
       "</style>\n",
       "<table border=\"1\" class=\"dataframe\">\n",
       "  <thead>\n",
       "    <tr style=\"text-align: right;\">\n",
       "      <th></th>\n",
       "      <th>title</th>\n",
       "      <th>year</th>\n",
       "      <th>citation_count</th>\n",
       "      <th>influential_citation_count</th>\n",
       "    </tr>\n",
       "  </thead>\n",
       "  <tbody>\n",
       "    <tr>\n",
       "      <th>315</th>\n",
       "      <td>Decision Transformer: Reinforcement Learning v...</td>\n",
       "      <td>2021.0</td>\n",
       "      <td>1747</td>\n",
       "      <td>301</td>\n",
       "    </tr>\n",
       "    <tr>\n",
       "      <th>1450</th>\n",
       "      <td>Reinforcement learning for demand response: A ...</td>\n",
       "      <td>2019.0</td>\n",
       "      <td>604</td>\n",
       "      <td>15</td>\n",
       "    </tr>\n",
       "    <tr>\n",
       "      <th>1317</th>\n",
       "      <td>Perceptual Learning Directs Auditory Cortical ...</td>\n",
       "      <td>2006.0</td>\n",
       "      <td>568</td>\n",
       "      <td>36</td>\n",
       "    </tr>\n",
       "    <tr>\n",
       "      <th>244</th>\n",
       "      <td>Reinforcement Knowledge Graph Reasoning for Ex...</td>\n",
       "      <td>2019.0</td>\n",
       "      <td>484</td>\n",
       "      <td>47</td>\n",
       "    </tr>\n",
       "    <tr>\n",
       "      <th>359</th>\n",
       "      <td>Social Influence as Intrinsic Motivation for M...</td>\n",
       "      <td>2018.0</td>\n",
       "      <td>462</td>\n",
       "      <td>50</td>\n",
       "    </tr>\n",
       "    <tr>\n",
       "      <th>1531</th>\n",
       "      <td>Working-memory capacity protects model-based l...</td>\n",
       "      <td>2013.0</td>\n",
       "      <td>432</td>\n",
       "      <td>34</td>\n",
       "    </tr>\n",
       "    <tr>\n",
       "      <th>628</th>\n",
       "      <td>Model-Free Real-Time EV Charging Scheduling Ba...</td>\n",
       "      <td>2019.0</td>\n",
       "      <td>393</td>\n",
       "      <td>23</td>\n",
       "    </tr>\n",
       "    <tr>\n",
       "      <th>1695</th>\n",
       "      <td>A Dynamic pricing demand response algorithm fo...</td>\n",
       "      <td>2018.0</td>\n",
       "      <td>360</td>\n",
       "      <td>20</td>\n",
       "    </tr>\n",
       "    <tr>\n",
       "      <th>1601</th>\n",
       "      <td>Deep Reinforcement Learning for Power System A...</td>\n",
       "      <td>2020.0</td>\n",
       "      <td>348</td>\n",
       "      <td>12</td>\n",
       "    </tr>\n",
       "    <tr>\n",
       "      <th>1846</th>\n",
       "      <td>Incentive-based demand response for smart grid...</td>\n",
       "      <td>2019.0</td>\n",
       "      <td>320</td>\n",
       "      <td>7</td>\n",
       "    </tr>\n",
       "    <tr>\n",
       "      <th>1637</th>\n",
       "      <td>A Multi-Agent Reinforcement Learning-Based Dat...</td>\n",
       "      <td>2020.0</td>\n",
       "      <td>286</td>\n",
       "      <td>15</td>\n",
       "    </tr>\n",
       "    <tr>\n",
       "      <th>1369</th>\n",
       "      <td>Demand Response for Home Energy Management Usi...</td>\n",
       "      <td>2019.0</td>\n",
       "      <td>286</td>\n",
       "      <td>12</td>\n",
       "    </tr>\n",
       "    <tr>\n",
       "      <th>1734</th>\n",
       "      <td>VCONF: a reinforcement learning approach to vi...</td>\n",
       "      <td>2009.0</td>\n",
       "      <td>284</td>\n",
       "      <td>13</td>\n",
       "    </tr>\n",
       "    <tr>\n",
       "      <th>829</th>\n",
       "      <td>Constrained EV Charging Scheduling Based on Sa...</td>\n",
       "      <td>2020.0</td>\n",
       "      <td>281</td>\n",
       "      <td>13</td>\n",
       "    </tr>\n",
       "    <tr>\n",
       "      <th>344</th>\n",
       "      <td>Effects of Hemi‐Portocaval Shunts For Inflow M...</td>\n",
       "      <td>2005.0</td>\n",
       "      <td>259</td>\n",
       "      <td>12</td>\n",
       "    </tr>\n",
       "    <tr>\n",
       "      <th>1042</th>\n",
       "      <td>Residential Demand Response of Thermostaticall...</td>\n",
       "      <td>2017.0</td>\n",
       "      <td>258</td>\n",
       "      <td>10</td>\n",
       "    </tr>\n",
       "    <tr>\n",
       "      <th>1069</th>\n",
       "      <td>Intelligent Multi-Microgrid Energy Management ...</td>\n",
       "      <td>2020.0</td>\n",
       "      <td>251</td>\n",
       "      <td>2</td>\n",
       "    </tr>\n",
       "    <tr>\n",
       "      <th>393</th>\n",
       "      <td>Causal Discovery with Reinforcement Learning</td>\n",
       "      <td>2019.0</td>\n",
       "      <td>248</td>\n",
       "      <td>23</td>\n",
       "    </tr>\n",
       "    <tr>\n",
       "      <th>1086</th>\n",
       "      <td>Optimal Demand Response Using Device-Based Rei...</td>\n",
       "      <td>2014.0</td>\n",
       "      <td>236</td>\n",
       "      <td>4</td>\n",
       "    </tr>\n",
       "    <tr>\n",
       "      <th>1789</th>\n",
       "      <td>A Data-Driven Multi-Agent Autonomous Voltage C...</td>\n",
       "      <td>2020.0</td>\n",
       "      <td>206</td>\n",
       "      <td>7</td>\n",
       "    </tr>\n",
       "    <tr>\n",
       "      <th>1587</th>\n",
       "      <td>Efficient Ridesharing Order Dispatching with M...</td>\n",
       "      <td>2019.0</td>\n",
       "      <td>204</td>\n",
       "      <td>12</td>\n",
       "    </tr>\n",
       "    <tr>\n",
       "      <th>1235</th>\n",
       "      <td>Reinforcement learning for whole-building HVAC...</td>\n",
       "      <td>2020.0</td>\n",
       "      <td>187</td>\n",
       "      <td>4</td>\n",
       "    </tr>\n",
       "    <tr>\n",
       "      <th>1269</th>\n",
       "      <td>Optimal Scheduling of Isolated Microgrids Usin...</td>\n",
       "      <td>2021.0</td>\n",
       "      <td>186</td>\n",
       "      <td>1</td>\n",
       "    </tr>\n",
       "    <tr>\n",
       "      <th>460</th>\n",
       "      <td>Deep Reinforcement Learning for EV Charging Na...</td>\n",
       "      <td>2020.0</td>\n",
       "      <td>179</td>\n",
       "      <td>9</td>\n",
       "    </tr>\n",
       "    <tr>\n",
       "      <th>778</th>\n",
       "      <td>Reinforcement Learning of Heuristic EV Fleet C...</td>\n",
       "      <td>2015.0</td>\n",
       "      <td>178</td>\n",
       "      <td>7</td>\n",
       "    </tr>\n",
       "  </tbody>\n",
       "</table>\n",
       "</div>"
      ],
      "text/plain": [
       "                                                  title    year  \\\n",
       "315   Decision Transformer: Reinforcement Learning v...  2021.0   \n",
       "1450  Reinforcement learning for demand response: A ...  2019.0   \n",
       "1317  Perceptual Learning Directs Auditory Cortical ...  2006.0   \n",
       "244   Reinforcement Knowledge Graph Reasoning for Ex...  2019.0   \n",
       "359   Social Influence as Intrinsic Motivation for M...  2018.0   \n",
       "1531  Working-memory capacity protects model-based l...  2013.0   \n",
       "628   Model-Free Real-Time EV Charging Scheduling Ba...  2019.0   \n",
       "1695  A Dynamic pricing demand response algorithm fo...  2018.0   \n",
       "1601  Deep Reinforcement Learning for Power System A...  2020.0   \n",
       "1846  Incentive-based demand response for smart grid...  2019.0   \n",
       "1637  A Multi-Agent Reinforcement Learning-Based Dat...  2020.0   \n",
       "1369  Demand Response for Home Energy Management Usi...  2019.0   \n",
       "1734  VCONF: a reinforcement learning approach to vi...  2009.0   \n",
       "829   Constrained EV Charging Scheduling Based on Sa...  2020.0   \n",
       "344   Effects of Hemi‐Portocaval Shunts For Inflow M...  2005.0   \n",
       "1042  Residential Demand Response of Thermostaticall...  2017.0   \n",
       "1069  Intelligent Multi-Microgrid Energy Management ...  2020.0   \n",
       "393        Causal Discovery with Reinforcement Learning  2019.0   \n",
       "1086  Optimal Demand Response Using Device-Based Rei...  2014.0   \n",
       "1789  A Data-Driven Multi-Agent Autonomous Voltage C...  2020.0   \n",
       "1587  Efficient Ridesharing Order Dispatching with M...  2019.0   \n",
       "1235  Reinforcement learning for whole-building HVAC...  2020.0   \n",
       "1269  Optimal Scheduling of Isolated Microgrids Usin...  2021.0   \n",
       "460   Deep Reinforcement Learning for EV Charging Na...  2020.0   \n",
       "778   Reinforcement Learning of Heuristic EV Fleet C...  2015.0   \n",
       "\n",
       "      citation_count  influential_citation_count  \n",
       "315             1747                         301  \n",
       "1450             604                          15  \n",
       "1317             568                          36  \n",
       "244              484                          47  \n",
       "359              462                          50  \n",
       "1531             432                          34  \n",
       "628              393                          23  \n",
       "1695             360                          20  \n",
       "1601             348                          12  \n",
       "1846             320                           7  \n",
       "1637             286                          15  \n",
       "1369             286                          12  \n",
       "1734             284                          13  \n",
       "829              281                          13  \n",
       "344              259                          12  \n",
       "1042             258                          10  \n",
       "1069             251                           2  \n",
       "393              248                          23  \n",
       "1086             236                           4  \n",
       "1789             206                           7  \n",
       "1587             204                          12  \n",
       "1235             187                           4  \n",
       "1269             186                           1  \n",
       "460              179                           9  \n",
       "778              178                           7  "
      ]
     },
     "metadata": {},
     "output_type": "display_data"
    }
   ],
   "source": [
    "# --- Query 2: Most Cited Papers ---\n",
    "# Load the CSV file into a pandas DataFrame\n",
    "normalized_papers_df = pd.read_csv(\"./data/processed/normalized_papers.csv\")\n",
    "\n",
    "# Sort by citation_count (descending), then by influential_citation (descending) for tie-breaking\n",
    "top_25_cited_df = normalized_papers_df.sort_values(\n",
    "    by=[\"citation_count\", \"influential_citation_count\"], \n",
    "    ascending=[False, False]\n",
    ").head(25)\n",
    "\n",
    "display(top_25_cited_df[[\"title\", \"year\", \"citation_count\", \"influential_citation_count\"]])"
   ]
  },
  {
   "cell_type": "markdown",
   "id": "3afd3da0",
   "metadata": {},
   "source": [
    "# 3. Key Collaborators"
   ]
  },
  {
   "cell_type": "code",
   "execution_count": 6,
   "id": "021b4d9d",
   "metadata": {},
   "outputs": [
    {
     "name": "stdout",
     "output_type": "stream",
     "text": [
      "\n",
      "Finding the top 15 collaborating author pairs...\n"
     ]
    },
    {
     "name": "stderr",
     "output_type": "stream",
     "text": [
      "Received notification from DBMS server: {severity: WARNING} {code: Neo.ClientNotification.Statement.FeatureDeprecationWarning} {category: DEPRECATION} {title: This feature is deprecated and will be removed in future versions.} {description: The query used a deprecated function. ('id' has been replaced by 'elementId or consider using an application-generated id')} {position: line: 5, column: 7, offset: 184} for query: \"\\n// Find a paper that has at least two authors\\nMATCH (a1:Author)-[:AUTHORED]->(p:Paper)<-[:AUTHORED]-(a2:Author)\\n// Ensure we don't count the same pair twice (e.g., A-B and B-A)\\nWHERE id(a1) < id(a2)\\nRETURN a1.name AS author1, a2.name AS author2, count(p) AS collaborations\\nORDER BY collaborations DESC\\nLIMIT 15\\n\"\n",
      "Received notification from DBMS server: {severity: WARNING} {code: Neo.ClientNotification.Statement.FeatureDeprecationWarning} {category: DEPRECATION} {title: This feature is deprecated and will be removed in future versions.} {description: The query used a deprecated function. ('id' has been replaced by 'elementId or consider using an application-generated id')} {position: line: 5, column: 16, offset: 193} for query: \"\\n// Find a paper that has at least two authors\\nMATCH (a1:Author)-[:AUTHORED]->(p:Paper)<-[:AUTHORED]-(a2:Author)\\n// Ensure we don't count the same pair twice (e.g., A-B and B-A)\\nWHERE id(a1) < id(a2)\\nRETURN a1.name AS author1, a2.name AS author2, count(p) AS collaborations\\nORDER BY collaborations DESC\\nLIMIT 15\\n\"\n"
     ]
    },
    {
     "data": {
      "application/vnd.microsoft.datawrangler.viewer.v0+json": {
       "columns": [
        {
         "name": "index",
         "rawType": "int64",
         "type": "integer"
        },
        {
         "name": "author1",
         "rawType": "object",
         "type": "string"
        },
        {
         "name": "author2",
         "rawType": "object",
         "type": "string"
        },
        {
         "name": "collaborations",
         "rawType": "int64",
         "type": "integer"
        }
       ],
       "ref": "ff7023bb-40d0-4321-b897-a24b7b5063da",
       "rows": [
        [
         "0",
         "Lucas Spangher",
         "C. Spanos",
         "10"
        ],
        [
         "1",
         "Xiaoying Tang",
         "Jie Liu",
         "8"
        ],
        [
         "2",
         "Qingyu Yang",
         "Donghe Li",
         "8"
        ],
        [
         "3",
         "Sangyoon Lee",
         "Dae-Hyun Choi",
         "7"
        ],
        [
         "4",
         "F. Ruelens",
         "B. Claessens",
         "7"
        ],
        [
         "5",
         "C. Spanos",
         "Utkarsha Agwan",
         "6"
        ],
        [
         "6",
         "Lucas Spangher",
         "Utkarsha Agwan",
         "6"
        ],
        [
         "7",
         "Lucas Spangher",
         "Doseok Jang",
         "6"
        ],
        [
         "8",
         "Zhiqiang Wan",
         "Haibo He",
         "6"
        ],
        [
         "9",
         "Hepeng Li",
         "Haibo He",
         "6"
        ],
        [
         "10",
         "Biwei Huang",
         "Kun Zhang",
         "6"
        ],
        [
         "11",
         "C. Spanos",
         "Manan Khattar",
         "6"
        ],
        [
         "12",
         "Hepeng Li",
         "Zhiqiang Wan",
         "6"
        ],
        [
         "13",
         "Lucas Spangher",
         "Manan Khattar",
         "6"
        ],
        [
         "14",
         "C. Spanos",
         "Doseok Jang",
         "6"
        ]
       ],
       "shape": {
        "columns": 3,
        "rows": 15
       }
      },
      "text/html": [
       "<div>\n",
       "<style scoped>\n",
       "    .dataframe tbody tr th:only-of-type {\n",
       "        vertical-align: middle;\n",
       "    }\n",
       "\n",
       "    .dataframe tbody tr th {\n",
       "        vertical-align: top;\n",
       "    }\n",
       "\n",
       "    .dataframe thead th {\n",
       "        text-align: right;\n",
       "    }\n",
       "</style>\n",
       "<table border=\"1\" class=\"dataframe\">\n",
       "  <thead>\n",
       "    <tr style=\"text-align: right;\">\n",
       "      <th></th>\n",
       "      <th>author1</th>\n",
       "      <th>author2</th>\n",
       "      <th>collaborations</th>\n",
       "    </tr>\n",
       "  </thead>\n",
       "  <tbody>\n",
       "    <tr>\n",
       "      <th>0</th>\n",
       "      <td>Lucas Spangher</td>\n",
       "      <td>C. Spanos</td>\n",
       "      <td>10</td>\n",
       "    </tr>\n",
       "    <tr>\n",
       "      <th>1</th>\n",
       "      <td>Xiaoying Tang</td>\n",
       "      <td>Jie Liu</td>\n",
       "      <td>8</td>\n",
       "    </tr>\n",
       "    <tr>\n",
       "      <th>2</th>\n",
       "      <td>Qingyu Yang</td>\n",
       "      <td>Donghe Li</td>\n",
       "      <td>8</td>\n",
       "    </tr>\n",
       "    <tr>\n",
       "      <th>3</th>\n",
       "      <td>Sangyoon Lee</td>\n",
       "      <td>Dae-Hyun Choi</td>\n",
       "      <td>7</td>\n",
       "    </tr>\n",
       "    <tr>\n",
       "      <th>4</th>\n",
       "      <td>F. Ruelens</td>\n",
       "      <td>B. Claessens</td>\n",
       "      <td>7</td>\n",
       "    </tr>\n",
       "    <tr>\n",
       "      <th>5</th>\n",
       "      <td>C. Spanos</td>\n",
       "      <td>Utkarsha Agwan</td>\n",
       "      <td>6</td>\n",
       "    </tr>\n",
       "    <tr>\n",
       "      <th>6</th>\n",
       "      <td>Lucas Spangher</td>\n",
       "      <td>Utkarsha Agwan</td>\n",
       "      <td>6</td>\n",
       "    </tr>\n",
       "    <tr>\n",
       "      <th>7</th>\n",
       "      <td>Lucas Spangher</td>\n",
       "      <td>Doseok Jang</td>\n",
       "      <td>6</td>\n",
       "    </tr>\n",
       "    <tr>\n",
       "      <th>8</th>\n",
       "      <td>Zhiqiang Wan</td>\n",
       "      <td>Haibo He</td>\n",
       "      <td>6</td>\n",
       "    </tr>\n",
       "    <tr>\n",
       "      <th>9</th>\n",
       "      <td>Hepeng Li</td>\n",
       "      <td>Haibo He</td>\n",
       "      <td>6</td>\n",
       "    </tr>\n",
       "    <tr>\n",
       "      <th>10</th>\n",
       "      <td>Biwei Huang</td>\n",
       "      <td>Kun Zhang</td>\n",
       "      <td>6</td>\n",
       "    </tr>\n",
       "    <tr>\n",
       "      <th>11</th>\n",
       "      <td>C. Spanos</td>\n",
       "      <td>Manan Khattar</td>\n",
       "      <td>6</td>\n",
       "    </tr>\n",
       "    <tr>\n",
       "      <th>12</th>\n",
       "      <td>Hepeng Li</td>\n",
       "      <td>Zhiqiang Wan</td>\n",
       "      <td>6</td>\n",
       "    </tr>\n",
       "    <tr>\n",
       "      <th>13</th>\n",
       "      <td>Lucas Spangher</td>\n",
       "      <td>Manan Khattar</td>\n",
       "      <td>6</td>\n",
       "    </tr>\n",
       "    <tr>\n",
       "      <th>14</th>\n",
       "      <td>C. Spanos</td>\n",
       "      <td>Doseok Jang</td>\n",
       "      <td>6</td>\n",
       "    </tr>\n",
       "  </tbody>\n",
       "</table>\n",
       "</div>"
      ],
      "text/plain": [
       "           author1         author2  collaborations\n",
       "0   Lucas Spangher       C. Spanos              10\n",
       "1    Xiaoying Tang         Jie Liu               8\n",
       "2      Qingyu Yang       Donghe Li               8\n",
       "3     Sangyoon Lee   Dae-Hyun Choi               7\n",
       "4       F. Ruelens    B. Claessens               7\n",
       "5        C. Spanos  Utkarsha Agwan               6\n",
       "6   Lucas Spangher  Utkarsha Agwan               6\n",
       "7   Lucas Spangher     Doseok Jang               6\n",
       "8     Zhiqiang Wan        Haibo He               6\n",
       "9        Hepeng Li        Haibo He               6\n",
       "10     Biwei Huang       Kun Zhang               6\n",
       "11       C. Spanos   Manan Khattar               6\n",
       "12       Hepeng Li    Zhiqiang Wan               6\n",
       "13  Lucas Spangher   Manan Khattar               6\n",
       "14       C. Spanos     Doseok Jang               6"
      ]
     },
     "metadata": {},
     "output_type": "display_data"
    }
   ],
   "source": [
    "# --- Query 3: Top Co-Author Pairs ---\n",
    "co_authors_query = \"\"\"\n",
    "// Find a paper that has at least two authors\n",
    "MATCH (a1:Author)-[:AUTHORED]->(p:Paper)<-[:AUTHORED]-(a2:Author)\n",
    "// Ensure we don't count the same pair twice (e.g., A-B and B-A)\n",
    "WHERE id(a1) < id(a2)\n",
    "RETURN a1.name AS author1, a2.name AS author2, count(p) AS collaborations\n",
    "ORDER BY collaborations DESC\n",
    "LIMIT 15\n",
    "\"\"\"\n",
    "print(\"\\nFinding the top 15 collaborating author pairs...\")\n",
    "co_authors_df = query_to_dataframe(driver, co_authors_query)\n",
    "display(co_authors_df)"
   ]
  },
  {
   "cell_type": "markdown",
   "id": "20e28c15",
   "metadata": {},
   "source": [
    "# 4. Foundational Papers"
   ]
  },
  {
   "cell_type": "code",
   "execution_count": 7,
   "id": "4f6843a7",
   "metadata": {},
   "outputs": [
    {
     "name": "stdout",
     "output_type": "stream",
     "text": [
      "\n",
      "Finding the 15 most cited papers by other papers in our corpus...\n"
     ]
    },
    {
     "data": {
      "application/vnd.microsoft.datawrangler.viewer.v0+json": {
       "columns": [
        {
         "name": "index",
         "rawType": "int64",
         "type": "integer"
        },
        {
         "name": "foundational_paper",
         "rawType": "object",
         "type": "string"
        },
        {
         "name": "citations_within_corpus",
         "rawType": "int64",
         "type": "integer"
        }
       ],
       "ref": "0a55f12d-511a-45bb-99b9-680fe1a12440",
       "rows": [
        [
         "0",
         "Model-Free Real-Time EV Charging Scheduling Based on Deep Reinforcement Learning",
         "39"
        ],
        [
         "1",
         "Reinforcement learning for demand response: A review of algorithms and modeling techniques",
         "31"
        ],
        [
         "2",
         "Reinforcement Learning-Based Plug-in Electric Vehicle Charging With Forecasted Price",
         "24"
        ],
        [
         "3",
         "Incentive-based demand response for smart grid with reinforcement learning and deep neural network",
         "20"
        ],
        [
         "4",
         "A Dynamic pricing demand response algorithm for smart grid: Reinforcement learning approach",
         "18"
        ],
        [
         "5",
         "Optimal Demand Response Using Device-Based Reinforcement Learning",
         "18"
        ],
        [
         "6",
         "CDDPG: A Deep-Reinforcement-Learning-Based Approach for Electric Vehicle Charging Control",
         "17"
        ],
        [
         "7",
         "Reinforcement Learning for Real-Time Pricing and Scheduling Control in EV Charging Stations",
         "17"
        ],
        [
         "8",
         "Definition and Evaluation of Model-Free Coordination of Electrical Vehicle Charging With Reinforcement Learning",
         "16"
        ],
        [
         "9",
         "Demand Response for Home Energy Management Using Reinforcement Learning and Artificial Neural Network",
         "16"
        ],
        [
         "10",
         "Reinforcement Learning Based EV Charging Management Systems–A Review",
         "14"
        ],
        [
         "11",
         "Reinforcement Learning of Heuristic EV Fleet Charging in a Day-Ahead Electricity Market",
         "14"
        ],
        [
         "12",
         "Reinforcement Learning Applied to an Electric Water Heater: From Theory to Practice",
         "12"
        ],
        [
         "13",
         "A Multi-Agent Reinforcement Learning-Based Data-Driven Method for Home Energy Management",
         "12"
        ],
        [
         "14",
         "Optimal Policy Characterization Enhanced Actor-Critic Approach for Electric Vehicle Charging Scheduling in a Power Distribution Network",
         "11"
        ]
       ],
       "shape": {
        "columns": 2,
        "rows": 15
       }
      },
      "text/html": [
       "<div>\n",
       "<style scoped>\n",
       "    .dataframe tbody tr th:only-of-type {\n",
       "        vertical-align: middle;\n",
       "    }\n",
       "\n",
       "    .dataframe tbody tr th {\n",
       "        vertical-align: top;\n",
       "    }\n",
       "\n",
       "    .dataframe thead th {\n",
       "        text-align: right;\n",
       "    }\n",
       "</style>\n",
       "<table border=\"1\" class=\"dataframe\">\n",
       "  <thead>\n",
       "    <tr style=\"text-align: right;\">\n",
       "      <th></th>\n",
       "      <th>foundational_paper</th>\n",
       "      <th>citations_within_corpus</th>\n",
       "    </tr>\n",
       "  </thead>\n",
       "  <tbody>\n",
       "    <tr>\n",
       "      <th>0</th>\n",
       "      <td>Model-Free Real-Time EV Charging Scheduling Ba...</td>\n",
       "      <td>39</td>\n",
       "    </tr>\n",
       "    <tr>\n",
       "      <th>1</th>\n",
       "      <td>Reinforcement learning for demand response: A ...</td>\n",
       "      <td>31</td>\n",
       "    </tr>\n",
       "    <tr>\n",
       "      <th>2</th>\n",
       "      <td>Reinforcement Learning-Based Plug-in Electric ...</td>\n",
       "      <td>24</td>\n",
       "    </tr>\n",
       "    <tr>\n",
       "      <th>3</th>\n",
       "      <td>Incentive-based demand response for smart grid...</td>\n",
       "      <td>20</td>\n",
       "    </tr>\n",
       "    <tr>\n",
       "      <th>4</th>\n",
       "      <td>A Dynamic pricing demand response algorithm fo...</td>\n",
       "      <td>18</td>\n",
       "    </tr>\n",
       "    <tr>\n",
       "      <th>5</th>\n",
       "      <td>Optimal Demand Response Using Device-Based Rei...</td>\n",
       "      <td>18</td>\n",
       "    </tr>\n",
       "    <tr>\n",
       "      <th>6</th>\n",
       "      <td>CDDPG: A Deep-Reinforcement-Learning-Based App...</td>\n",
       "      <td>17</td>\n",
       "    </tr>\n",
       "    <tr>\n",
       "      <th>7</th>\n",
       "      <td>Reinforcement Learning for Real-Time Pricing a...</td>\n",
       "      <td>17</td>\n",
       "    </tr>\n",
       "    <tr>\n",
       "      <th>8</th>\n",
       "      <td>Definition and Evaluation of Model-Free Coordi...</td>\n",
       "      <td>16</td>\n",
       "    </tr>\n",
       "    <tr>\n",
       "      <th>9</th>\n",
       "      <td>Demand Response for Home Energy Management Usi...</td>\n",
       "      <td>16</td>\n",
       "    </tr>\n",
       "    <tr>\n",
       "      <th>10</th>\n",
       "      <td>Reinforcement Learning Based EV Charging Manag...</td>\n",
       "      <td>14</td>\n",
       "    </tr>\n",
       "    <tr>\n",
       "      <th>11</th>\n",
       "      <td>Reinforcement Learning of Heuristic EV Fleet C...</td>\n",
       "      <td>14</td>\n",
       "    </tr>\n",
       "    <tr>\n",
       "      <th>12</th>\n",
       "      <td>Reinforcement Learning Applied to an Electric ...</td>\n",
       "      <td>12</td>\n",
       "    </tr>\n",
       "    <tr>\n",
       "      <th>13</th>\n",
       "      <td>A Multi-Agent Reinforcement Learning-Based Dat...</td>\n",
       "      <td>12</td>\n",
       "    </tr>\n",
       "    <tr>\n",
       "      <th>14</th>\n",
       "      <td>Optimal Policy Characterization Enhanced Actor...</td>\n",
       "      <td>11</td>\n",
       "    </tr>\n",
       "  </tbody>\n",
       "</table>\n",
       "</div>"
      ],
      "text/plain": [
       "                                   foundational_paper  citations_within_corpus\n",
       "0   Model-Free Real-Time EV Charging Scheduling Ba...                       39\n",
       "1   Reinforcement learning for demand response: A ...                       31\n",
       "2   Reinforcement Learning-Based Plug-in Electric ...                       24\n",
       "3   Incentive-based demand response for smart grid...                       20\n",
       "4   A Dynamic pricing demand response algorithm fo...                       18\n",
       "5   Optimal Demand Response Using Device-Based Rei...                       18\n",
       "6   CDDPG: A Deep-Reinforcement-Learning-Based App...                       17\n",
       "7   Reinforcement Learning for Real-Time Pricing a...                       17\n",
       "8   Definition and Evaluation of Model-Free Coordi...                       16\n",
       "9   Demand Response for Home Energy Management Usi...                       16\n",
       "10  Reinforcement Learning Based EV Charging Manag...                       14\n",
       "11  Reinforcement Learning of Heuristic EV Fleet C...                       14\n",
       "12  Reinforcement Learning Applied to an Electric ...                       12\n",
       "13  A Multi-Agent Reinforcement Learning-Based Dat...                       12\n",
       "14  Optimal Policy Characterization Enhanced Actor...                       11"
      ]
     },
     "metadata": {},
     "output_type": "display_data"
    }
   ],
   "source": [
    "# --- Query 4: Most Cited Papers within our Corpus ---\n",
    "internal_citations_query = \"\"\"\n",
    "MATCH (p1:Paper)-[:CITES]->(p2:Paper)\n",
    "RETURN p2.title AS foundational_paper, count(p1) AS citations_within_corpus\n",
    "ORDER BY citations_within_corpus DESC\n",
    "LIMIT 15\n",
    "\"\"\"\n",
    "print(\"\\nFinding the 15 most cited papers by other papers in our corpus...\")\n",
    "internal_citations_df = query_to_dataframe(driver, internal_citations_query)\n",
    "display(internal_citations_df)"
   ]
  },
  {
   "cell_type": "markdown",
   "id": "d14644a6",
   "metadata": {},
   "source": [
    "# 5. Original Query Analysis"
   ]
  },
  {
   "cell_type": "code",
   "execution_count": 14,
   "id": "a4d632d4",
   "metadata": {},
   "outputs": [
    {
     "name": "stdout",
     "output_type": "stream",
     "text": [
      "\n",
      "Counting papers found by each original query...\n"
     ]
    },
    {
     "data": {
      "application/vnd.microsoft.datawrangler.viewer.v0+json": {
       "columns": [
        {
         "name": "index",
         "rawType": "int64",
         "type": "integer"
        },
        {
         "name": "query",
         "rawType": "object",
         "type": "string"
        },
        {
         "name": "number_of_papers",
         "rawType": "int64",
         "type": "integer"
        }
       ],
       "ref": "1745435d-61fd-4716-aa2a-983df66f8c03",
       "rows": [
        [
         "0",
         "(Reinforcement Learning | Deep Reinforcement Learning) + (Vehicle-to-Grid | V2G | Demand Response)",
         "955"
        ],
        [
         "1",
         "Reinforcement Learning + (EV Charging | Smart Charging)",
         "574"
        ],
        [
         "2",
         "Causal Reinforcement Learning | Causal RL",
         "403"
        ],
        [
         "3",
         "(Interpretable Reinforcement Learning | Explainable Reinforcement Learning\") + (Power Grid)",
         "47"
        ],
        [
         "4",
         "(Explainable AI | XAI) + (Smart Grid | Grid Stability)",
         "37"
        ],
        [
         "5",
         "Causal Inference + (Energy Systems | Power Grid)",
         "27"
        ],
        [
         "6",
         "(Safe Reinforcement Learning | Robust Reinforcement Learning) + (Power Grid | EV Charging | Smart Charging)",
         "10"
        ],
        [
         "7",
         "Causal Inference + (Vehicle-to-Grid | EV Charging)",
         "2"
        ]
       ],
       "shape": {
        "columns": 2,
        "rows": 8
       }
      },
      "text/html": [
       "<div>\n",
       "<style scoped>\n",
       "    .dataframe tbody tr th:only-of-type {\n",
       "        vertical-align: middle;\n",
       "    }\n",
       "\n",
       "    .dataframe tbody tr th {\n",
       "        vertical-align: top;\n",
       "    }\n",
       "\n",
       "    .dataframe thead th {\n",
       "        text-align: right;\n",
       "    }\n",
       "</style>\n",
       "<table border=\"1\" class=\"dataframe\">\n",
       "  <thead>\n",
       "    <tr style=\"text-align: right;\">\n",
       "      <th></th>\n",
       "      <th>query</th>\n",
       "      <th>number_of_papers</th>\n",
       "    </tr>\n",
       "  </thead>\n",
       "  <tbody>\n",
       "    <tr>\n",
       "      <th>0</th>\n",
       "      <td>(Reinforcement Learning | Deep Reinforcement L...</td>\n",
       "      <td>955</td>\n",
       "    </tr>\n",
       "    <tr>\n",
       "      <th>1</th>\n",
       "      <td>Reinforcement Learning + (EV Charging | Smart ...</td>\n",
       "      <td>574</td>\n",
       "    </tr>\n",
       "    <tr>\n",
       "      <th>2</th>\n",
       "      <td>Causal Reinforcement Learning | Causal RL</td>\n",
       "      <td>403</td>\n",
       "    </tr>\n",
       "    <tr>\n",
       "      <th>3</th>\n",
       "      <td>(Interpretable Reinforcement Learning | Explai...</td>\n",
       "      <td>47</td>\n",
       "    </tr>\n",
       "    <tr>\n",
       "      <th>4</th>\n",
       "      <td>(Explainable AI | XAI) + (Smart Grid | Grid St...</td>\n",
       "      <td>37</td>\n",
       "    </tr>\n",
       "    <tr>\n",
       "      <th>5</th>\n",
       "      <td>Causal Inference + (Energy Systems | Power Grid)</td>\n",
       "      <td>27</td>\n",
       "    </tr>\n",
       "    <tr>\n",
       "      <th>6</th>\n",
       "      <td>(Safe Reinforcement Learning | Robust Reinforc...</td>\n",
       "      <td>10</td>\n",
       "    </tr>\n",
       "    <tr>\n",
       "      <th>7</th>\n",
       "      <td>Causal Inference + (Vehicle-to-Grid | EV Charg...</td>\n",
       "      <td>2</td>\n",
       "    </tr>\n",
       "  </tbody>\n",
       "</table>\n",
       "</div>"
      ],
      "text/plain": [
       "                                               query  number_of_papers\n",
       "0  (Reinforcement Learning | Deep Reinforcement L...               955\n",
       "1  Reinforcement Learning + (EV Charging | Smart ...               574\n",
       "2          Causal Reinforcement Learning | Causal RL               403\n",
       "3  (Interpretable Reinforcement Learning | Explai...                47\n",
       "4  (Explainable AI | XAI) + (Smart Grid | Grid St...                37\n",
       "5   Causal Inference + (Energy Systems | Power Grid)                27\n",
       "6  (Safe Reinforcement Learning | Robust Reinforc...                10\n",
       "7  Causal Inference + (Vehicle-to-Grid | EV Charg...                 2"
      ]
     },
     "metadata": {},
     "output_type": "display_data"
    }
   ],
   "source": [
    "# --- Query 5: Paper count by original query ---\n",
    "papers_by_query = \"\"\"\n",
    "MATCH (p:Paper)-[:FOUND_BY]->(q:Query)\n",
    "RETURN q.name AS query, count(p) AS number_of_papers\n",
    "ORDER BY number_of_papers DESC\n",
    "\"\"\"\n",
    "print(\"\\nCounting papers found by each original query...\")\n",
    "papers_by_query_df = query_to_dataframe(driver, papers_by_query)\n",
    "display(papers_by_query_df)"
   ]
  },
  {
   "cell_type": "code",
   "execution_count": 15,
   "id": "6ace5c6a",
   "metadata": {},
   "outputs": [
    {
     "name": "stderr",
     "output_type": "stream",
     "text": [
      "Received notification from DBMS server: {severity: WARNING} {code: Neo.ClientNotification.Statement.UnknownPropertyKeyWarning} {category: UNRECOGNIZED} {title: The provided property key is not in the database} {description: One of the property names in your query is not available in the database, make sure you didn't misspell it or that the label is available when you run this statement in your application (the missing property name is: citationCount)} {position: line: 4, column: 28, offset: 129} for query: \"\\nMATCH (p:Paper)-[:FOUND_BY]->(q:Query)\\nWHERE q.queryId = 'Q:causal-reinforcement-learning-causal-rl'\\nRETURN p.title AS title, p.citationCount AS citations\\nORDER BY citations DESC\\nLIMIT 5\\n\"\n"
     ]
    },
    {
     "name": "stdout",
     "output_type": "stream",
     "text": [
      "\n",
      "Finding top 5 cited papers from the 'Causal RL' query...\n"
     ]
    },
    {
     "data": {
      "application/vnd.microsoft.datawrangler.viewer.v0+json": {
       "columns": [
        {
         "name": "index",
         "rawType": "int64",
         "type": "integer"
        },
        {
         "name": "title",
         "rawType": "object",
         "type": "string"
        },
        {
         "name": "citations",
         "rawType": "object",
         "type": "unknown"
        }
       ],
       "ref": "830f1b2e-f033-49f6-a0bd-8df05f7a0929",
       "rows": [
        [
         "0",
         "Explainable Agency in Reinforcement Learning Agents",
         null
        ],
        [
         "1",
         "Causal prompting model-based offline reinforcement learning",
         null
        ],
        [
         "2",
         "Learning Causal Overhypotheses through Exploration in Children and Computational Models",
         null
        ],
        [
         "3",
         "Segmented Encoding for Sim2Real of RL-based End-to-End Autonomous Driving",
         null
        ],
        [
         "4",
         "Applications of information Nonanticipative Rate Distortion Function",
         null
        ]
       ],
       "shape": {
        "columns": 2,
        "rows": 5
       }
      },
      "text/html": [
       "<div>\n",
       "<style scoped>\n",
       "    .dataframe tbody tr th:only-of-type {\n",
       "        vertical-align: middle;\n",
       "    }\n",
       "\n",
       "    .dataframe tbody tr th {\n",
       "        vertical-align: top;\n",
       "    }\n",
       "\n",
       "    .dataframe thead th {\n",
       "        text-align: right;\n",
       "    }\n",
       "</style>\n",
       "<table border=\"1\" class=\"dataframe\">\n",
       "  <thead>\n",
       "    <tr style=\"text-align: right;\">\n",
       "      <th></th>\n",
       "      <th>title</th>\n",
       "      <th>citations</th>\n",
       "    </tr>\n",
       "  </thead>\n",
       "  <tbody>\n",
       "    <tr>\n",
       "      <th>0</th>\n",
       "      <td>Explainable Agency in Reinforcement Learning A...</td>\n",
       "      <td>None</td>\n",
       "    </tr>\n",
       "    <tr>\n",
       "      <th>1</th>\n",
       "      <td>Causal prompting model-based offline reinforce...</td>\n",
       "      <td>None</td>\n",
       "    </tr>\n",
       "    <tr>\n",
       "      <th>2</th>\n",
       "      <td>Learning Causal Overhypotheses through Explora...</td>\n",
       "      <td>None</td>\n",
       "    </tr>\n",
       "    <tr>\n",
       "      <th>3</th>\n",
       "      <td>Segmented Encoding for Sim2Real of RL-based En...</td>\n",
       "      <td>None</td>\n",
       "    </tr>\n",
       "    <tr>\n",
       "      <th>4</th>\n",
       "      <td>Applications of information Nonanticipative Ra...</td>\n",
       "      <td>None</td>\n",
       "    </tr>\n",
       "  </tbody>\n",
       "</table>\n",
       "</div>"
      ],
      "text/plain": [
       "                                               title citations\n",
       "0  Explainable Agency in Reinforcement Learning A...      None\n",
       "1  Causal prompting model-based offline reinforce...      None\n",
       "2  Learning Causal Overhypotheses through Explora...      None\n",
       "3  Segmented Encoding for Sim2Real of RL-based En...      None\n",
       "4  Applications of information Nonanticipative Ra...      None"
      ]
     },
     "metadata": {},
     "output_type": "display_data"
    }
   ],
   "source": [
    "# --- Query 6: Top papers for a specific query ---\n",
    "top_papers_from_query = \"\"\"\n",
    "MATCH (p:Paper)-[:FOUND_BY]->(q:Query)\n",
    "WHERE q.queryId = 'Q:causal-reinforcement-learning-causal-rl'\n",
    "RETURN p.title AS title, p.citationCount AS citations\n",
    "ORDER BY citations DESC\n",
    "LIMIT 5\n",
    "\"\"\"\n",
    "print(\"\\nFinding top 5 cited papers from the 'Causal RL' query...\")\n",
    "top_papers_from_query_df = query_to_dataframe(driver, top_papers_from_query)\n",
    "display(top_papers_from_query_df)"
   ]
  },
  {
   "cell_type": "markdown",
   "id": "88fddbbf",
   "metadata": {},
   "source": [
    "# 6. Analysis by Field of Study"
   ]
  },
  {
   "cell_type": "code",
   "execution_count": 16,
   "id": "9c2aa0bf",
   "metadata": {},
   "outputs": [
    {
     "name": "stdout",
     "output_type": "stream",
     "text": [
      "\n",
      "Finding the top 10 most common fields of study...\n"
     ]
    },
    {
     "data": {
      "application/vnd.microsoft.datawrangler.viewer.v0+json": {
       "columns": [
        {
         "name": "index",
         "rawType": "int64",
         "type": "integer"
        },
        {
         "name": "field_of_study",
         "rawType": "object",
         "type": "string"
        },
        {
         "name": "number_of_papers",
         "rawType": "int64",
         "type": "integer"
        }
       ],
       "ref": "dad412dd-d3a5-4d52-9976-6f7d59f02623",
       "rows": [
        [
         "0",
         "Computer Science",
         "1083"
        ],
        [
         "1",
         "Engineering",
         "145"
        ],
        [
         "2",
         "Medicine",
         "127"
        ],
        [
         "3",
         "Mathematics",
         "83"
        ],
        [
         "4",
         "Psychology",
         "65"
        ],
        [
         "5",
         "Physics",
         "23"
        ],
        [
         "6",
         "Biology",
         "23"
        ],
        [
         "7",
         "Economics",
         "16"
        ],
        [
         "8",
         "Business",
         "11"
        ],
        [
         "9",
         "Environmental Science",
         "3"
        ]
       ],
       "shape": {
        "columns": 2,
        "rows": 10
       }
      },
      "text/html": [
       "<div>\n",
       "<style scoped>\n",
       "    .dataframe tbody tr th:only-of-type {\n",
       "        vertical-align: middle;\n",
       "    }\n",
       "\n",
       "    .dataframe tbody tr th {\n",
       "        vertical-align: top;\n",
       "    }\n",
       "\n",
       "    .dataframe thead th {\n",
       "        text-align: right;\n",
       "    }\n",
       "</style>\n",
       "<table border=\"1\" class=\"dataframe\">\n",
       "  <thead>\n",
       "    <tr style=\"text-align: right;\">\n",
       "      <th></th>\n",
       "      <th>field_of_study</th>\n",
       "      <th>number_of_papers</th>\n",
       "    </tr>\n",
       "  </thead>\n",
       "  <tbody>\n",
       "    <tr>\n",
       "      <th>0</th>\n",
       "      <td>Computer Science</td>\n",
       "      <td>1083</td>\n",
       "    </tr>\n",
       "    <tr>\n",
       "      <th>1</th>\n",
       "      <td>Engineering</td>\n",
       "      <td>145</td>\n",
       "    </tr>\n",
       "    <tr>\n",
       "      <th>2</th>\n",
       "      <td>Medicine</td>\n",
       "      <td>127</td>\n",
       "    </tr>\n",
       "    <tr>\n",
       "      <th>3</th>\n",
       "      <td>Mathematics</td>\n",
       "      <td>83</td>\n",
       "    </tr>\n",
       "    <tr>\n",
       "      <th>4</th>\n",
       "      <td>Psychology</td>\n",
       "      <td>65</td>\n",
       "    </tr>\n",
       "    <tr>\n",
       "      <th>5</th>\n",
       "      <td>Physics</td>\n",
       "      <td>23</td>\n",
       "    </tr>\n",
       "    <tr>\n",
       "      <th>6</th>\n",
       "      <td>Biology</td>\n",
       "      <td>23</td>\n",
       "    </tr>\n",
       "    <tr>\n",
       "      <th>7</th>\n",
       "      <td>Economics</td>\n",
       "      <td>16</td>\n",
       "    </tr>\n",
       "    <tr>\n",
       "      <th>8</th>\n",
       "      <td>Business</td>\n",
       "      <td>11</td>\n",
       "    </tr>\n",
       "    <tr>\n",
       "      <th>9</th>\n",
       "      <td>Environmental Science</td>\n",
       "      <td>3</td>\n",
       "    </tr>\n",
       "  </tbody>\n",
       "</table>\n",
       "</div>"
      ],
      "text/plain": [
       "          field_of_study  number_of_papers\n",
       "0       Computer Science              1083\n",
       "1            Engineering               145\n",
       "2               Medicine               127\n",
       "3            Mathematics                83\n",
       "4             Psychology                65\n",
       "5                Physics                23\n",
       "6                Biology                23\n",
       "7              Economics                16\n",
       "8               Business                11\n",
       "9  Environmental Science                 3"
      ]
     },
     "metadata": {},
     "output_type": "display_data"
    }
   ],
   "source": [
    "# --- Query 7: Most common Fields of Study ---\n",
    "papers_by_fos = \"\"\"\n",
    "MATCH (p:Paper)-[:HAS_FIELD]->(f:FieldOfStudy)\n",
    "RETURN f.name AS field_of_study, count(p) AS number_of_papers\n",
    "ORDER BY number_of_papers DESC\n",
    "LIMIT 10\n",
    "\"\"\"\n",
    "print(\"\\nFinding the top 10 most common fields of study...\")\n",
    "papers_by_fos_df = query_to_dataframe(driver, papers_by_fos)\n",
    "display(papers_by_fos_df)"
   ]
  },
  {
   "cell_type": "code",
   "execution_count": 17,
   "id": "6ccb008b",
   "metadata": {},
   "outputs": [
    {
     "name": "stdout",
     "output_type": "stream",
     "text": [
      "\n",
      "Finding the top fields of study for papers from the 'Causal RL' query...\n"
     ]
    },
    {
     "data": {
      "application/vnd.microsoft.datawrangler.viewer.v0+json": {
       "columns": [
        {
         "name": "index",
         "rawType": "int64",
         "type": "integer"
        },
        {
         "name": "field_of_study",
         "rawType": "object",
         "type": "string"
        },
        {
         "name": "papers_in_field",
         "rawType": "int64",
         "type": "integer"
        }
       ],
       "ref": "dbd70210-5ba2-4c16-a5ae-d23380fcfeed",
       "rows": [
        [
         "0",
         "Computer Science",
         "268"
        ],
        [
         "1",
         "Mathematics",
         "63"
        ],
        [
         "2",
         "Medicine",
         "45"
        ],
        [
         "3",
         "Biology",
         "16"
        ],
        [
         "4",
         "Psychology",
         "14"
        ],
        [
         "5",
         "Engineering",
         "12"
        ],
        [
         "6",
         "Economics",
         "5"
        ],
        [
         "7",
         "Business",
         "5"
        ],
        [
         "8",
         "Physics",
         "3"
        ],
        [
         "9",
         "Art",
         "1"
        ],
        [
         "10",
         "Sociology",
         "1"
        ],
        [
         "11",
         "Geography",
         "1"
        ]
       ],
       "shape": {
        "columns": 2,
        "rows": 12
       }
      },
      "text/html": [
       "<div>\n",
       "<style scoped>\n",
       "    .dataframe tbody tr th:only-of-type {\n",
       "        vertical-align: middle;\n",
       "    }\n",
       "\n",
       "    .dataframe tbody tr th {\n",
       "        vertical-align: top;\n",
       "    }\n",
       "\n",
       "    .dataframe thead th {\n",
       "        text-align: right;\n",
       "    }\n",
       "</style>\n",
       "<table border=\"1\" class=\"dataframe\">\n",
       "  <thead>\n",
       "    <tr style=\"text-align: right;\">\n",
       "      <th></th>\n",
       "      <th>field_of_study</th>\n",
       "      <th>papers_in_field</th>\n",
       "    </tr>\n",
       "  </thead>\n",
       "  <tbody>\n",
       "    <tr>\n",
       "      <th>0</th>\n",
       "      <td>Computer Science</td>\n",
       "      <td>268</td>\n",
       "    </tr>\n",
       "    <tr>\n",
       "      <th>1</th>\n",
       "      <td>Mathematics</td>\n",
       "      <td>63</td>\n",
       "    </tr>\n",
       "    <tr>\n",
       "      <th>2</th>\n",
       "      <td>Medicine</td>\n",
       "      <td>45</td>\n",
       "    </tr>\n",
       "    <tr>\n",
       "      <th>3</th>\n",
       "      <td>Biology</td>\n",
       "      <td>16</td>\n",
       "    </tr>\n",
       "    <tr>\n",
       "      <th>4</th>\n",
       "      <td>Psychology</td>\n",
       "      <td>14</td>\n",
       "    </tr>\n",
       "    <tr>\n",
       "      <th>5</th>\n",
       "      <td>Engineering</td>\n",
       "      <td>12</td>\n",
       "    </tr>\n",
       "    <tr>\n",
       "      <th>6</th>\n",
       "      <td>Economics</td>\n",
       "      <td>5</td>\n",
       "    </tr>\n",
       "    <tr>\n",
       "      <th>7</th>\n",
       "      <td>Business</td>\n",
       "      <td>5</td>\n",
       "    </tr>\n",
       "    <tr>\n",
       "      <th>8</th>\n",
       "      <td>Physics</td>\n",
       "      <td>3</td>\n",
       "    </tr>\n",
       "    <tr>\n",
       "      <th>9</th>\n",
       "      <td>Art</td>\n",
       "      <td>1</td>\n",
       "    </tr>\n",
       "    <tr>\n",
       "      <th>10</th>\n",
       "      <td>Sociology</td>\n",
       "      <td>1</td>\n",
       "    </tr>\n",
       "    <tr>\n",
       "      <th>11</th>\n",
       "      <td>Geography</td>\n",
       "      <td>1</td>\n",
       "    </tr>\n",
       "  </tbody>\n",
       "</table>\n",
       "</div>"
      ],
      "text/plain": [
       "      field_of_study  papers_in_field\n",
       "0   Computer Science              268\n",
       "1        Mathematics               63\n",
       "2           Medicine               45\n",
       "3            Biology               16\n",
       "4         Psychology               14\n",
       "5        Engineering               12\n",
       "6          Economics                5\n",
       "7           Business                5\n",
       "8            Physics                3\n",
       "9                Art                1\n",
       "10         Sociology                1\n",
       "11         Geography                1"
      ]
     },
     "metadata": {},
     "output_type": "display_data"
    }
   ],
   "source": [
    "# --- Query 8: Top Fields of Study for a specific query ---\n",
    "fos_by_query = \"\"\"\n",
    "MATCH (q:Query {queryId: 'Q:causal-reinforcement-learning-causal-rl'})<-[:FOUND_BY]-(p:Paper)-[:HAS_FIELD]->(f:FieldOfStudy)\n",
    "RETURN f.name AS field_of_study, count(p) AS papers_in_field\n",
    "ORDER BY papers_in_field DESC\n",
    "\"\"\"\n",
    "print(\"\\nFinding the top fields of study for papers from the 'Causal RL' query...\")\n",
    "fos_by_query_df = query_to_dataframe(driver, fos_by_query)\n",
    "display(fos_by_query_df)"
   ]
  }
 ],
 "metadata": {
  "kernelspec": {
   "display_name": "causal-rl-ev",
   "language": "python",
   "name": "python3"
  },
  "language_info": {
   "codemirror_mode": {
    "name": "ipython",
    "version": 3
   },
   "file_extension": ".py",
   "mimetype": "text/x-python",
   "name": "python",
   "nbconvert_exporter": "python",
   "pygments_lexer": "ipython3",
   "version": "3.11.8"
  }
 },
 "nbformat": 4,
 "nbformat_minor": 5
}
