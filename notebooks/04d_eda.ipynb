{
 "cells": [
  {
   "cell_type": "code",
   "execution_count": 1,
   "id": "0e78dda6",
   "metadata": {},
   "outputs": [
    {
     "name": "stdout",
     "output_type": "stream",
     "text": [
      "Setup complete. Connected to Neo4j.\n"
     ]
    }
   ],
   "source": [
    "# notebooks/07_deep_dive_analysis.ipynb\n",
    "\n",
    "import pandas as pd\n",
    "from neo4j import GraphDatabase\n",
    "import os\n",
    "from dotenv import load_dotenv\n",
    "import matplotlib.pyplot as plt\n",
    "import networkx as nx\n",
    "import seaborn as sns\n",
    "\n",
    "# --- Connect to Neo4j ---\n",
    "load_dotenv()\n",
    "URI = os.getenv(\"NEO4J_URI\")\n",
    "AUTH = (os.getenv(\"NEO4J_USERNAME\"), os.getenv(\"NEO4J_PASSWORD\"))\n",
    "driver = GraphDatabase.driver(URI, auth=AUTH)\n",
    "\n",
    "# --- Helper Function ---\n",
    "def query_to_dataframe(driver, query, **params):\n",
    "    \"\"\"\n",
    "    This function executes a Cypher query and returns the results as a pandas DataFrame.\n",
    "    \"\"\"\n",
    "    with driver.session() as session:\n",
    "        result = session.run(query, **params)\n",
    "        return pd.DataFrame([r.data() for r in result])\n",
    "\n",
    "print(\"Setup complete. Connected to Neo4j.\")"
   ]
  },
  {
   "cell_type": "markdown",
   "id": "86845dc8",
   "metadata": {},
   "source": [
    "## 1. Deep Dive on Top Performers\n",
    "This section answers the follow-up questions from the macro analysis by programmatically investigating the top 5 most influential authors and papers."
   ]
  },
  {
   "cell_type": "code",
   "execution_count": 2,
   "id": "9b0592ed",
   "metadata": {},
   "outputs": [
    {
     "name": "stdout",
     "output_type": "stream",
     "text": [
      "Analyzing the disciplinary focus of the top 5 influential authors...\n",
      "\n",
      "--- Disciplinary Focus for Renzhi Lu ---\n"
     ]
    },
    {
     "data": {
      "application/vnd.microsoft.datawrangler.viewer.v0+json": {
       "columns": [
        {
         "name": "index",
         "rawType": "int64",
         "type": "integer"
        },
        {
         "name": "field_of_study",
         "rawType": "object",
         "type": "string"
        },
        {
         "name": "paper_count",
         "rawType": "int64",
         "type": "integer"
        }
       ],
       "ref": "ed4b0c99-115c-4c40-8418-2148fe7c76f0",
       "rows": [
        [
         "0",
         "Computer Science",
         "7"
        ]
       ],
       "shape": {
        "columns": 2,
        "rows": 1
       }
      },
      "text/html": [
       "<div>\n",
       "<style scoped>\n",
       "    .dataframe tbody tr th:only-of-type {\n",
       "        vertical-align: middle;\n",
       "    }\n",
       "\n",
       "    .dataframe tbody tr th {\n",
       "        vertical-align: top;\n",
       "    }\n",
       "\n",
       "    .dataframe thead th {\n",
       "        text-align: right;\n",
       "    }\n",
       "</style>\n",
       "<table border=\"1\" class=\"dataframe\">\n",
       "  <thead>\n",
       "    <tr style=\"text-align: right;\">\n",
       "      <th></th>\n",
       "      <th>field_of_study</th>\n",
       "      <th>paper_count</th>\n",
       "    </tr>\n",
       "  </thead>\n",
       "  <tbody>\n",
       "    <tr>\n",
       "      <th>0</th>\n",
       "      <td>Computer Science</td>\n",
       "      <td>7</td>\n",
       "    </tr>\n",
       "  </tbody>\n",
       "</table>\n",
       "</div>"
      ],
      "text/plain": [
       "     field_of_study  paper_count\n",
       "0  Computer Science            7"
      ]
     },
     "metadata": {},
     "output_type": "display_data"
    },
    {
     "name": "stdout",
     "output_type": "stream",
     "text": [
      "\n",
      "--- Disciplinary Focus for S. Hong ---\n"
     ]
    },
    {
     "data": {
      "application/vnd.microsoft.datawrangler.viewer.v0+json": {
       "columns": [
        {
         "name": "index",
         "rawType": "int64",
         "type": "integer"
        },
        {
         "name": "field_of_study",
         "rawType": "object",
         "type": "string"
        },
        {
         "name": "paper_count",
         "rawType": "int64",
         "type": "integer"
        }
       ],
       "ref": "838acd92-8288-4ca3-88d8-79e6e60513db",
       "rows": [
        [
         "0",
         "Computer Science",
         "6"
        ]
       ],
       "shape": {
        "columns": 2,
        "rows": 1
       }
      },
      "text/html": [
       "<div>\n",
       "<style scoped>\n",
       "    .dataframe tbody tr th:only-of-type {\n",
       "        vertical-align: middle;\n",
       "    }\n",
       "\n",
       "    .dataframe tbody tr th {\n",
       "        vertical-align: top;\n",
       "    }\n",
       "\n",
       "    .dataframe thead th {\n",
       "        text-align: right;\n",
       "    }\n",
       "</style>\n",
       "<table border=\"1\" class=\"dataframe\">\n",
       "  <thead>\n",
       "    <tr style=\"text-align: right;\">\n",
       "      <th></th>\n",
       "      <th>field_of_study</th>\n",
       "      <th>paper_count</th>\n",
       "    </tr>\n",
       "  </thead>\n",
       "  <tbody>\n",
       "    <tr>\n",
       "      <th>0</th>\n",
       "      <td>Computer Science</td>\n",
       "      <td>6</td>\n",
       "    </tr>\n",
       "  </tbody>\n",
       "</table>\n",
       "</div>"
      ],
      "text/plain": [
       "     field_of_study  paper_count\n",
       "0  Computer Science            6"
      ]
     },
     "metadata": {},
     "output_type": "display_data"
    },
    {
     "name": "stdout",
     "output_type": "stream",
     "text": [
      "\n",
      "--- Disciplinary Focus for B. Claessens ---\n"
     ]
    },
    {
     "data": {
      "application/vnd.microsoft.datawrangler.viewer.v0+json": {
       "columns": [
        {
         "name": "index",
         "rawType": "int64",
         "type": "integer"
        },
        {
         "name": "field_of_study",
         "rawType": "object",
         "type": "string"
        },
        {
         "name": "paper_count",
         "rawType": "int64",
         "type": "integer"
        }
       ],
       "ref": "95307097-d69d-468e-af1e-4c4c92c1a4f6",
       "rows": [
        [
         "0",
         "Computer Science",
         "10"
        ],
        [
         "1",
         "Engineering",
         "5"
        ],
        [
         "2",
         "Mathematics",
         "3"
        ]
       ],
       "shape": {
        "columns": 2,
        "rows": 3
       }
      },
      "text/html": [
       "<div>\n",
       "<style scoped>\n",
       "    .dataframe tbody tr th:only-of-type {\n",
       "        vertical-align: middle;\n",
       "    }\n",
       "\n",
       "    .dataframe tbody tr th {\n",
       "        vertical-align: top;\n",
       "    }\n",
       "\n",
       "    .dataframe thead th {\n",
       "        text-align: right;\n",
       "    }\n",
       "</style>\n",
       "<table border=\"1\" class=\"dataframe\">\n",
       "  <thead>\n",
       "    <tr style=\"text-align: right;\">\n",
       "      <th></th>\n",
       "      <th>field_of_study</th>\n",
       "      <th>paper_count</th>\n",
       "    </tr>\n",
       "  </thead>\n",
       "  <tbody>\n",
       "    <tr>\n",
       "      <th>0</th>\n",
       "      <td>Computer Science</td>\n",
       "      <td>10</td>\n",
       "    </tr>\n",
       "    <tr>\n",
       "      <th>1</th>\n",
       "      <td>Engineering</td>\n",
       "      <td>5</td>\n",
       "    </tr>\n",
       "    <tr>\n",
       "      <th>2</th>\n",
       "      <td>Mathematics</td>\n",
       "      <td>3</td>\n",
       "    </tr>\n",
       "  </tbody>\n",
       "</table>\n",
       "</div>"
      ],
      "text/plain": [
       "     field_of_study  paper_count\n",
       "0  Computer Science           10\n",
       "1       Engineering            5\n",
       "2       Mathematics            3"
      ]
     },
     "metadata": {},
     "output_type": "display_data"
    },
    {
     "name": "stdout",
     "output_type": "stream",
     "text": [
      "\n",
      "--- Disciplinary Focus for Hepeng Li ---\n"
     ]
    },
    {
     "data": {
      "application/vnd.microsoft.datawrangler.viewer.v0+json": {
       "columns": [
        {
         "name": "index",
         "rawType": "int64",
         "type": "integer"
        },
        {
         "name": "field_of_study",
         "rawType": "object",
         "type": "string"
        },
        {
         "name": "paper_count",
         "rawType": "int64",
         "type": "integer"
        }
       ],
       "ref": "57cddf55-bb44-4d14-90b5-7cb61730bb20",
       "rows": [
        [
         "0",
         "Computer Science",
         "5"
        ]
       ],
       "shape": {
        "columns": 2,
        "rows": 1
       }
      },
      "text/html": [
       "<div>\n",
       "<style scoped>\n",
       "    .dataframe tbody tr th:only-of-type {\n",
       "        vertical-align: middle;\n",
       "    }\n",
       "\n",
       "    .dataframe tbody tr th {\n",
       "        vertical-align: top;\n",
       "    }\n",
       "\n",
       "    .dataframe thead th {\n",
       "        text-align: right;\n",
       "    }\n",
       "</style>\n",
       "<table border=\"1\" class=\"dataframe\">\n",
       "  <thead>\n",
       "    <tr style=\"text-align: right;\">\n",
       "      <th></th>\n",
       "      <th>field_of_study</th>\n",
       "      <th>paper_count</th>\n",
       "    </tr>\n",
       "  </thead>\n",
       "  <tbody>\n",
       "    <tr>\n",
       "      <th>0</th>\n",
       "      <td>Computer Science</td>\n",
       "      <td>5</td>\n",
       "    </tr>\n",
       "  </tbody>\n",
       "</table>\n",
       "</div>"
      ],
      "text/plain": [
       "     field_of_study  paper_count\n",
       "0  Computer Science            5"
      ]
     },
     "metadata": {},
     "output_type": "display_data"
    },
    {
     "name": "stdout",
     "output_type": "stream",
     "text": [
      "\n",
      "--- Disciplinary Focus for Zhiqiang Wan ---\n"
     ]
    },
    {
     "data": {
      "application/vnd.microsoft.datawrangler.viewer.v0+json": {
       "columns": [
        {
         "name": "index",
         "rawType": "int64",
         "type": "integer"
        },
        {
         "name": "field_of_study",
         "rawType": "object",
         "type": "string"
        },
        {
         "name": "paper_count",
         "rawType": "int64",
         "type": "integer"
        }
       ],
       "ref": "39ba257c-6b5f-4411-bf6d-1fd3053447cc",
       "rows": [
        [
         "0",
         "Computer Science",
         "5"
        ]
       ],
       "shape": {
        "columns": 2,
        "rows": 1
       }
      },
      "text/html": [
       "<div>\n",
       "<style scoped>\n",
       "    .dataframe tbody tr th:only-of-type {\n",
       "        vertical-align: middle;\n",
       "    }\n",
       "\n",
       "    .dataframe tbody tr th {\n",
       "        vertical-align: top;\n",
       "    }\n",
       "\n",
       "    .dataframe thead th {\n",
       "        text-align: right;\n",
       "    }\n",
       "</style>\n",
       "<table border=\"1\" class=\"dataframe\">\n",
       "  <thead>\n",
       "    <tr style=\"text-align: right;\">\n",
       "      <th></th>\n",
       "      <th>field_of_study</th>\n",
       "      <th>paper_count</th>\n",
       "    </tr>\n",
       "  </thead>\n",
       "  <tbody>\n",
       "    <tr>\n",
       "      <th>0</th>\n",
       "      <td>Computer Science</td>\n",
       "      <td>5</td>\n",
       "    </tr>\n",
       "  </tbody>\n",
       "</table>\n",
       "</div>"
      ],
      "text/plain": [
       "     field_of_study  paper_count\n",
       "0  Computer Science            5"
      ]
     },
     "metadata": {},
     "output_type": "display_data"
    }
   ],
   "source": [
    "# First, get the names of the top 5 influential authors by in-corpus citations\n",
    "top_authors_query = \"\"\"\n",
    "MATCH (author:Author)-[:AUTHORED]->(paper:Paper)<-[:CITES]-(citingPaper:Paper)\n",
    "RETURN author.name as author, count(citingPaper) as in_corpus_citations\n",
    "ORDER BY in_corpus_citations DESC\n",
    "LIMIT 5\n",
    "\"\"\"\n",
    "top_authors_df = query_to_dataframe(driver, top_authors_query)\n",
    "top_author_names = top_authors_df['author'].tolist()\n",
    "\n",
    "# Now, loop through them and find their disciplinary focus\n",
    "print(\"Analyzing the disciplinary focus of the top 5 influential authors...\")\n",
    "for author_name in top_author_names:\n",
    "    author_discipline_query = f\"\"\"\n",
    "    MATCH (a:Author {{name: \"{author_name}\"}})-[:AUTHORED]->(p:Paper)-[:HAS_FIELD]->(f:FieldOfStudy)\n",
    "    RETURN f.name as field_of_study, count(p) as paper_count\n",
    "    ORDER BY paper_count DESC\n",
    "    \"\"\"\n",
    "    print(f\"\\n--- Disciplinary Focus for {author_name} ---\")\n",
    "    author_discipline_df = query_to_dataframe(driver, author_discipline_query)\n",
    "    display(author_discipline_df)"
   ]
  },
  {
   "cell_type": "code",
   "execution_count": 3,
   "id": "0d3f1144",
   "metadata": {},
   "outputs": [
    {
     "name": "stdout",
     "output_type": "stream",
     "text": [
      "\n",
      "Analyzing the broader influence of the authors of top foundational papers...\n",
      "\n",
      "--- Author Influence from paper: 'Model-Free Real-Time EV Charging Scheduling Based ...' ---\n"
     ]
    },
    {
     "data": {
      "application/vnd.microsoft.datawrangler.viewer.v0+json": {
       "columns": [
        {
         "name": "index",
         "rawType": "int64",
         "type": "integer"
        },
        {
         "name": "author",
         "rawType": "object",
         "type": "string"
        },
        {
         "name": "other_in_corpus_citations",
         "rawType": "int64",
         "type": "integer"
        }
       ],
       "ref": "252e652a-d729-4122-8a00-eab18d84edbc",
       "rows": [
        [
         "0",
         "Hepeng Li",
         "1"
        ],
        [
         "1",
         "Zhiqiang Wan",
         "1"
        ],
        [
         "2",
         "Haibo He",
         "1"
        ],
        [
         "3",
         "D. Prokhorov",
         "1"
        ]
       ],
       "shape": {
        "columns": 2,
        "rows": 4
       }
      },
      "text/html": [
       "<div>\n",
       "<style scoped>\n",
       "    .dataframe tbody tr th:only-of-type {\n",
       "        vertical-align: middle;\n",
       "    }\n",
       "\n",
       "    .dataframe tbody tr th {\n",
       "        vertical-align: top;\n",
       "    }\n",
       "\n",
       "    .dataframe thead th {\n",
       "        text-align: right;\n",
       "    }\n",
       "</style>\n",
       "<table border=\"1\" class=\"dataframe\">\n",
       "  <thead>\n",
       "    <tr style=\"text-align: right;\">\n",
       "      <th></th>\n",
       "      <th>author</th>\n",
       "      <th>other_in_corpus_citations</th>\n",
       "    </tr>\n",
       "  </thead>\n",
       "  <tbody>\n",
       "    <tr>\n",
       "      <th>0</th>\n",
       "      <td>Hepeng Li</td>\n",
       "      <td>1</td>\n",
       "    </tr>\n",
       "    <tr>\n",
       "      <th>1</th>\n",
       "      <td>Zhiqiang Wan</td>\n",
       "      <td>1</td>\n",
       "    </tr>\n",
       "    <tr>\n",
       "      <th>2</th>\n",
       "      <td>Haibo He</td>\n",
       "      <td>1</td>\n",
       "    </tr>\n",
       "    <tr>\n",
       "      <th>3</th>\n",
       "      <td>D. Prokhorov</td>\n",
       "      <td>1</td>\n",
       "    </tr>\n",
       "  </tbody>\n",
       "</table>\n",
       "</div>"
      ],
      "text/plain": [
       "         author  other_in_corpus_citations\n",
       "0     Hepeng Li                          1\n",
       "1  Zhiqiang Wan                          1\n",
       "2      Haibo He                          1\n",
       "3  D. Prokhorov                          1"
      ]
     },
     "metadata": {},
     "output_type": "display_data"
    },
    {
     "name": "stdout",
     "output_type": "stream",
     "text": [
      "\n",
      "--- Author Influence from paper: 'Reinforcement learning for demand response: A revi...' ---\n"
     ]
    },
    {
     "data": {
      "application/vnd.microsoft.datawrangler.viewer.v0+json": {
       "columns": [
        {
         "name": "index",
         "rawType": "int64",
         "type": "integer"
        },
        {
         "name": "author",
         "rawType": "object",
         "type": "string"
        },
        {
         "name": "other_in_corpus_citations",
         "rawType": "int64",
         "type": "integer"
        }
       ],
       "ref": "fda2f887-6a33-41a5-860a-a6c39b3d2ea5",
       "rows": [
        [
         "0",
         "José R. Vázquez-Canteli",
         "4"
        ],
        [
         "1",
         "Z. Nagy",
         "4"
        ]
       ],
       "shape": {
        "columns": 2,
        "rows": 2
       }
      },
      "text/html": [
       "<div>\n",
       "<style scoped>\n",
       "    .dataframe tbody tr th:only-of-type {\n",
       "        vertical-align: middle;\n",
       "    }\n",
       "\n",
       "    .dataframe tbody tr th {\n",
       "        vertical-align: top;\n",
       "    }\n",
       "\n",
       "    .dataframe thead th {\n",
       "        text-align: right;\n",
       "    }\n",
       "</style>\n",
       "<table border=\"1\" class=\"dataframe\">\n",
       "  <thead>\n",
       "    <tr style=\"text-align: right;\">\n",
       "      <th></th>\n",
       "      <th>author</th>\n",
       "      <th>other_in_corpus_citations</th>\n",
       "    </tr>\n",
       "  </thead>\n",
       "  <tbody>\n",
       "    <tr>\n",
       "      <th>0</th>\n",
       "      <td>José R. Vázquez-Canteli</td>\n",
       "      <td>4</td>\n",
       "    </tr>\n",
       "    <tr>\n",
       "      <th>1</th>\n",
       "      <td>Z. Nagy</td>\n",
       "      <td>4</td>\n",
       "    </tr>\n",
       "  </tbody>\n",
       "</table>\n",
       "</div>"
      ],
      "text/plain": [
       "                    author  other_in_corpus_citations\n",
       "0  José R. Vázquez-Canteli                          4\n",
       "1                  Z. Nagy                          4"
      ]
     },
     "metadata": {},
     "output_type": "display_data"
    },
    {
     "name": "stdout",
     "output_type": "stream",
     "text": [
      "\n",
      "--- Author Influence from paper: 'Reinforcement Learning-Based Plug-in Electric Vehi...' ---\n"
     ]
    },
    {
     "data": {
      "application/vnd.microsoft.datawrangler.viewer.v0+json": {
       "columns": [
        {
         "name": "index",
         "rawType": "int64",
         "type": "integer"
        },
        {
         "name": "author",
         "rawType": "object",
         "type": "string"
        },
        {
         "name": "other_in_corpus_citations",
         "rawType": "int64",
         "type": "integer"
        }
       ],
       "ref": "90e66a08-80ca-49be-83fc-bcaa8192f1d9",
       "rows": [
        [
         "0",
         "V. Koivunen",
         "2"
        ],
        [
         "1",
         "A. Chiş",
         "2"
        ],
        [
         "2",
         "J. Lundén",
         "2"
        ]
       ],
       "shape": {
        "columns": 2,
        "rows": 3
       }
      },
      "text/html": [
       "<div>\n",
       "<style scoped>\n",
       "    .dataframe tbody tr th:only-of-type {\n",
       "        vertical-align: middle;\n",
       "    }\n",
       "\n",
       "    .dataframe tbody tr th {\n",
       "        vertical-align: top;\n",
       "    }\n",
       "\n",
       "    .dataframe thead th {\n",
       "        text-align: right;\n",
       "    }\n",
       "</style>\n",
       "<table border=\"1\" class=\"dataframe\">\n",
       "  <thead>\n",
       "    <tr style=\"text-align: right;\">\n",
       "      <th></th>\n",
       "      <th>author</th>\n",
       "      <th>other_in_corpus_citations</th>\n",
       "    </tr>\n",
       "  </thead>\n",
       "  <tbody>\n",
       "    <tr>\n",
       "      <th>0</th>\n",
       "      <td>V. Koivunen</td>\n",
       "      <td>2</td>\n",
       "    </tr>\n",
       "    <tr>\n",
       "      <th>1</th>\n",
       "      <td>A. Chiş</td>\n",
       "      <td>2</td>\n",
       "    </tr>\n",
       "    <tr>\n",
       "      <th>2</th>\n",
       "      <td>J. Lundén</td>\n",
       "      <td>2</td>\n",
       "    </tr>\n",
       "  </tbody>\n",
       "</table>\n",
       "</div>"
      ],
      "text/plain": [
       "        author  other_in_corpus_citations\n",
       "0  V. Koivunen                          2\n",
       "1      A. Chiş                          2\n",
       "2    J. Lundén                          2"
      ]
     },
     "metadata": {},
     "output_type": "display_data"
    },
    {
     "name": "stdout",
     "output_type": "stream",
     "text": [
      "\n",
      "--- Author Influence from paper: 'Incentive-based demand response for smart grid wit...' ---\n"
     ]
    },
    {
     "data": {
      "application/vnd.microsoft.datawrangler.viewer.v0+json": {
       "columns": [
        {
         "name": "index",
         "rawType": "int64",
         "type": "integer"
        },
        {
         "name": "author",
         "rawType": "object",
         "type": "string"
        },
        {
         "name": "other_in_corpus_citations",
         "rawType": "int64",
         "type": "integer"
        }
       ],
       "ref": "184783dc-33c9-4e01-a6f0-2ce7b34d1546",
       "rows": [
        [
         "0",
         "Renzhi Lu",
         "45"
        ],
        [
         "1",
         "S. Hong",
         "38"
        ]
       ],
       "shape": {
        "columns": 2,
        "rows": 2
       }
      },
      "text/html": [
       "<div>\n",
       "<style scoped>\n",
       "    .dataframe tbody tr th:only-of-type {\n",
       "        vertical-align: middle;\n",
       "    }\n",
       "\n",
       "    .dataframe tbody tr th {\n",
       "        vertical-align: top;\n",
       "    }\n",
       "\n",
       "    .dataframe thead th {\n",
       "        text-align: right;\n",
       "    }\n",
       "</style>\n",
       "<table border=\"1\" class=\"dataframe\">\n",
       "  <thead>\n",
       "    <tr style=\"text-align: right;\">\n",
       "      <th></th>\n",
       "      <th>author</th>\n",
       "      <th>other_in_corpus_citations</th>\n",
       "    </tr>\n",
       "  </thead>\n",
       "  <tbody>\n",
       "    <tr>\n",
       "      <th>0</th>\n",
       "      <td>Renzhi Lu</td>\n",
       "      <td>45</td>\n",
       "    </tr>\n",
       "    <tr>\n",
       "      <th>1</th>\n",
       "      <td>S. Hong</td>\n",
       "      <td>38</td>\n",
       "    </tr>\n",
       "  </tbody>\n",
       "</table>\n",
       "</div>"
      ],
      "text/plain": [
       "      author  other_in_corpus_citations\n",
       "0  Renzhi Lu                         45\n",
       "1    S. Hong                         38"
      ]
     },
     "metadata": {},
     "output_type": "display_data"
    },
    {
     "name": "stdout",
     "output_type": "stream",
     "text": [
      "\n",
      "--- Author Influence from paper: 'Optimal Demand Response Using Device-Based Reinfor...' ---\n"
     ]
    },
    {
     "data": {
      "application/vnd.microsoft.datawrangler.viewer.v0+json": {
       "columns": [
        {
         "name": "index",
         "rawType": "int64",
         "type": "integer"
        }
       ],
       "ref": "5ca46b8d-8ce3-44ed-a424-d3b0b209d97f",
       "rows": [],
       "shape": {
        "columns": 0,
        "rows": 0
       }
      },
      "text/html": [
       "<div>\n",
       "<style scoped>\n",
       "    .dataframe tbody tr th:only-of-type {\n",
       "        vertical-align: middle;\n",
       "    }\n",
       "\n",
       "    .dataframe tbody tr th {\n",
       "        vertical-align: top;\n",
       "    }\n",
       "\n",
       "    .dataframe thead th {\n",
       "        text-align: right;\n",
       "    }\n",
       "</style>\n",
       "<table border=\"1\" class=\"dataframe\">\n",
       "  <thead>\n",
       "    <tr style=\"text-align: right;\">\n",
       "      <th></th>\n",
       "    </tr>\n",
       "  </thead>\n",
       "  <tbody>\n",
       "  </tbody>\n",
       "</table>\n",
       "</div>"
      ],
      "text/plain": [
       "Empty DataFrame\n",
       "Columns: []\n",
       "Index: []"
      ]
     },
     "metadata": {},
     "output_type": "display_data"
    }
   ],
   "source": [
    "# First, get the titles of the top 5 most foundational (in-corpus cited) papers\n",
    "top_papers_query = \"\"\"\n",
    "MATCH (p1:Paper)-[:CITES]->(p2:Paper)\n",
    "RETURN p2.title AS foundational_paper, count(p1) AS citations_within_corpus\n",
    "ORDER BY citations_within_corpus DESC\n",
    "LIMIT 5\n",
    "\"\"\"\n",
    "top_papers_df = query_to_dataframe(driver, top_papers_query)\n",
    "top_paper_titles = top_papers_df['foundational_paper'].tolist()\n",
    "\n",
    "# Now, loop through them and analyze their authors' overall influence\n",
    "print(\"\\nAnalyzing the broader influence of the authors of top foundational papers...\")\n",
    "for paper_title in top_paper_titles:\n",
    "    # This query needs to be handled carefully to escape quotes\n",
    "    escaped_title = paper_title.replace('\"', '\\\\\"')\n",
    "    influential_authors_followup_query = f\"\"\"\n",
    "    MATCH (p:Paper {{title: \"{escaped_title}\"}})<-[:AUTHORED]-(a:Author)\n",
    "    WITH COLLECT(a) AS influential_authors\n",
    "    UNWIND influential_authors AS author\n",
    "    MATCH (author)-[:AUTHORED]->(other_paper:Paper)<-[:CITES]-(citing_paper:Paper)\n",
    "    WHERE other_paper.title <> \"{escaped_title}\"\n",
    "    RETURN author.name AS author, count(citing_paper) AS other_in_corpus_citations\n",
    "    ORDER BY other_in_corpus_citations DESC\n",
    "    \"\"\"\n",
    "    print(f\"\\n--- Author Influence from paper: '{paper_title[:50]}...' ---\")\n",
    "    author_influence_df = query_to_dataframe(driver, influential_authors_followup_query)\n",
    "    display(author_influence_df.head())"
   ]
  },
  {
   "cell_type": "markdown",
   "id": "10378ffa",
   "metadata": {},
   "source": [
    "## 2. Temporal Analysis\n",
    "This analysis visualizes the volume of publications per year for each of our original search queries. This helps identify which research topics are mature versus which are new and emerging."
   ]
  },
  {
   "cell_type": "code",
   "execution_count": 4,
   "id": "167da5b8",
   "metadata": {},
   "outputs": [
    {
     "name": "stdout",
     "output_type": "stream",
     "text": [
      "\n",
      "Calculating publication timeline by query topic...\n"
     ]
    },
    {
     "data": {
      "image/png": "[encoded data removed]",
      "text/plain": [
       "<Figure size 1400x700 with 1 Axes>"
      ]
     },
     "metadata": {},
     "output_type": "display_data"
    }
   ],
   "source": [
    "# This query gets the paper count per year for each of our original search queries.\n",
    "timeline_by_query = \"\"\"\n",
    "MATCH (q:Query)<-[:FOUND_BY]-(p:Paper)\n",
    "WHERE p.year IS NOT NULL AND p.year >= 2015\n",
    "RETURN p.year AS year, q.name AS query, count(p) AS paper_count\n",
    "ORDER BY year, query\n",
    "\"\"\"\n",
    "print(\"\\nCalculating publication timeline by query topic...\")\n",
    "timeline_by_query_df = query_to_dataframe(driver, timeline_by_query)\n",
    "\n",
    "# Use pandas pivot to create a plottable structure\n",
    "timeline_pivot = timeline_by_query_df.pivot_table(index='year', columns='query', values='paper_count').fillna(0)\n",
    "\n",
    "# Plotting the multi-line chart\n",
    "fig, ax = plt.subplots(figsize=(14, 7))\n",
    "timeline_pivot.plot(kind='line', ax=ax, marker='o')\n",
    "ax.set_title('Publication Trends by Search Query (Since 2015)')\n",
    "ax.set_xlabel('Year')\n",
    "ax.set_ylabel('Number of Papers')\n",
    "ax.legend(title='Query', bbox_to_anchor=(1.05, 1), loc='upper left')\n",
    "plt.tight_layout()\n",
    "plt.show()"
   ]
  },
  {
   "cell_type": "code",
   "execution_count": null,
   "id": "3b4df54a",
   "metadata": {},
   "outputs": [],
   "source": []
  }
 ],
 "metadata": {
  "kernelspec": {
   "display_name": "causal-rl-ev",
   "language": "python",
   "name": "python3"
  },
  "language_info": {
   "codemirror_mode": {
    "name": "ipython",
    "version": 3
   },
   "file_extension": ".py",
   "mimetype": "text/x-python",
   "name": "python",
   "nbconvert_exporter": "python",
   "pygments_lexer": "ipython3",
   "version": "3.11.8"
  }
 },
 "nbformat": 4,
 "nbformat_minor": 5
}
